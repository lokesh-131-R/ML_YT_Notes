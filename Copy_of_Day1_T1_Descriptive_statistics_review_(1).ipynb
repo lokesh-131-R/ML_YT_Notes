{
  "cells": [
    {
      "cell_type": "markdown",
      "id": "da686de0",
      "metadata": {
        "id": "da686de0"
      },
      "source": [
        "# Descriptive Statistics review"
      ]
    },
    {
      "cell_type": "markdown",
      "id": "4297972b",
      "metadata": {
        "id": "4297972b"
      },
      "source": [
        "## Sampling techniques\n",
        "- To avoid bias in a study"
      ]
    },
    {
      "cell_type": "markdown",
      "id": "00c542b6",
      "metadata": {
        "id": "00c542b6"
      },
      "source": [
        "## Numerical Measures"
      ]
    },
    {
      "cell_type": "markdown",
      "id": "0ef81079",
      "metadata": {
        "id": "0ef81079"
      },
      "source": [
        "### Measures of Central Tendency\n",
        "- Mean\n",
        "- Median\n",
        "- Mode"
      ]
    },
    {
      "cell_type": "markdown",
      "id": "901b10c9",
      "metadata": {
        "id": "901b10c9"
      },
      "source": [
        "### Measures of Dispersion\n",
        "- Interquartile range\n",
        "- Variance\n",
        "- Standard deviation"
      ]
    },
    {
      "cell_type": "markdown",
      "id": "03cd3588",
      "metadata": {
        "id": "03cd3588"
      },
      "source": [
        "## Skewness"
      ]
    },
    {
      "cell_type": "markdown",
      "id": "d9fba986",
      "metadata": {
        "id": "d9fba986"
      },
      "source": [
        "## Noraml distribution"
      ]
    },
    {
      "cell_type": "code",
      "execution_count": null,
      "id": "50efa814",
      "metadata": {
        "id": "50efa814"
      },
      "outputs": [],
      "source": [
        "# Importing libraries\n",
        "import numpy as np\n",
        "import pandas as pd"
      ]
    },
    {
      "cell_type": "code",
      "execution_count": null,
      "id": "48b27ad7",
      "metadata": {
        "id": "48b27ad7"
      },
      "outputs": [],
      "source": [
        "penguin_raw = pd.read_csv('penguins_lter_manipulated.csv') # reading dataset\n",
        "penguin = penguin_raw.copy() # creating a new copy"
      ]
    },
    {
      "cell_type": "code",
      "execution_count": null,
      "id": "8dfa4acd",
      "metadata": {
        "id": "8dfa4acd"
      },
      "outputs": [],
      "source": [
        "# Dropping few columns\n",
        "penguin = penguin.drop(['studyName', 'Sample Number', 'Stage', 'Region', 'Date Egg', 'Individual ID', 'Delta 15 N (o/oo)', 'Delta 13 C (o/oo)', 'Comments'], axis = 1)"
      ]
    },
    {
      "cell_type": "code",
      "execution_count": null,
      "id": "689ffd8b",
      "metadata": {
        "id": "689ffd8b",
        "outputId": "c41932b3-a0fa-4a86-d5ff-e6af7b065dc9"
      },
      "outputs": [
        {
          "data": {
            "text/html": [
              "<div>\n",
              "<style scoped>\n",
              "    .dataframe tbody tr th:only-of-type {\n",
              "        vertical-align: middle;\n",
              "    }\n",
              "\n",
              "    .dataframe tbody tr th {\n",
              "        vertical-align: top;\n",
              "    }\n",
              "\n",
              "    .dataframe thead th {\n",
              "        text-align: right;\n",
              "    }\n",
              "</style>\n",
              "<table border=\"1\" class=\"dataframe\">\n",
              "  <thead>\n",
              "    <tr style=\"text-align: right;\">\n",
              "      <th></th>\n",
              "      <th>Species</th>\n",
              "      <th>Island</th>\n",
              "      <th>Clutch Completion</th>\n",
              "      <th>Culmen Length (mm)</th>\n",
              "      <th>Culmen Depth (mm)</th>\n",
              "      <th>Flipper Length (mm)</th>\n",
              "      <th>Body Mass (g)</th>\n",
              "      <th>Sex</th>\n",
              "    </tr>\n",
              "  </thead>\n",
              "  <tbody>\n",
              "    <tr>\n",
              "      <th>count</th>\n",
              "      <td>344</td>\n",
              "      <td>344</td>\n",
              "      <td>344</td>\n",
              "      <td>288.000000</td>\n",
              "      <td>235.000000</td>\n",
              "      <td>337.000000</td>\n",
              "      <td>344</td>\n",
              "      <td>334</td>\n",
              "    </tr>\n",
              "    <tr>\n",
              "      <th>unique</th>\n",
              "      <td>3</td>\n",
              "      <td>3</td>\n",
              "      <td>2</td>\n",
              "      <td>NaN</td>\n",
              "      <td>NaN</td>\n",
              "      <td>NaN</td>\n",
              "      <td>96</td>\n",
              "      <td>3</td>\n",
              "    </tr>\n",
              "    <tr>\n",
              "      <th>top</th>\n",
              "      <td>Adelie Penguin (Pygoscelis adeliae)</td>\n",
              "      <td>Biscoe</td>\n",
              "      <td>Yes</td>\n",
              "      <td>NaN</td>\n",
              "      <td>NaN</td>\n",
              "      <td>NaN</td>\n",
              "      <td>3800</td>\n",
              "      <td>MALE</td>\n",
              "    </tr>\n",
              "    <tr>\n",
              "      <th>freq</th>\n",
              "      <td>152</td>\n",
              "      <td>168</td>\n",
              "      <td>308</td>\n",
              "      <td>NaN</td>\n",
              "      <td>NaN</td>\n",
              "      <td>NaN</td>\n",
              "      <td>11</td>\n",
              "      <td>168</td>\n",
              "    </tr>\n",
              "    <tr>\n",
              "      <th>mean</th>\n",
              "      <td>NaN</td>\n",
              "      <td>NaN</td>\n",
              "      <td>NaN</td>\n",
              "      <td>44.429514</td>\n",
              "      <td>17.195745</td>\n",
              "      <td>200.925816</td>\n",
              "      <td>NaN</td>\n",
              "      <td>NaN</td>\n",
              "    </tr>\n",
              "    <tr>\n",
              "      <th>std</th>\n",
              "      <td>NaN</td>\n",
              "      <td>NaN</td>\n",
              "      <td>NaN</td>\n",
              "      <td>5.262364</td>\n",
              "      <td>2.003539</td>\n",
              "      <td>14.069888</td>\n",
              "      <td>NaN</td>\n",
              "      <td>NaN</td>\n",
              "    </tr>\n",
              "    <tr>\n",
              "      <th>min</th>\n",
              "      <td>NaN</td>\n",
              "      <td>NaN</td>\n",
              "      <td>NaN</td>\n",
              "      <td>32.100000</td>\n",
              "      <td>13.200000</td>\n",
              "      <td>172.000000</td>\n",
              "      <td>NaN</td>\n",
              "      <td>NaN</td>\n",
              "    </tr>\n",
              "    <tr>\n",
              "      <th>25%</th>\n",
              "      <td>NaN</td>\n",
              "      <td>NaN</td>\n",
              "      <td>NaN</td>\n",
              "      <td>40.200000</td>\n",
              "      <td>15.550000</td>\n",
              "      <td>190.000000</td>\n",
              "      <td>NaN</td>\n",
              "      <td>NaN</td>\n",
              "    </tr>\n",
              "    <tr>\n",
              "      <th>50%</th>\n",
              "      <td>NaN</td>\n",
              "      <td>NaN</td>\n",
              "      <td>NaN</td>\n",
              "      <td>45.300000</td>\n",
              "      <td>17.500000</td>\n",
              "      <td>197.000000</td>\n",
              "      <td>NaN</td>\n",
              "      <td>NaN</td>\n",
              "    </tr>\n",
              "    <tr>\n",
              "      <th>75%</th>\n",
              "      <td>NaN</td>\n",
              "      <td>NaN</td>\n",
              "      <td>NaN</td>\n",
              "      <td>49.000000</td>\n",
              "      <td>18.800000</td>\n",
              "      <td>213.000000</td>\n",
              "      <td>NaN</td>\n",
              "      <td>NaN</td>\n",
              "    </tr>\n",
              "    <tr>\n",
              "      <th>max</th>\n",
              "      <td>NaN</td>\n",
              "      <td>NaN</td>\n",
              "      <td>NaN</td>\n",
              "      <td>58.000000</td>\n",
              "      <td>21.500000</td>\n",
              "      <td>231.000000</td>\n",
              "      <td>NaN</td>\n",
              "      <td>NaN</td>\n",
              "    </tr>\n",
              "  </tbody>\n",
              "</table>\n",
              "</div>"
            ],
            "text/plain": [
              "                                    Species  Island Clutch Completion  \\\n",
              "count                                   344     344               344   \n",
              "unique                                    3       3                 2   \n",
              "top     Adelie Penguin (Pygoscelis adeliae)  Biscoe               Yes   \n",
              "freq                                    152     168               308   \n",
              "mean                                    NaN     NaN               NaN   \n",
              "std                                     NaN     NaN               NaN   \n",
              "min                                     NaN     NaN               NaN   \n",
              "25%                                     NaN     NaN               NaN   \n",
              "50%                                     NaN     NaN               NaN   \n",
              "75%                                     NaN     NaN               NaN   \n",
              "max                                     NaN     NaN               NaN   \n",
              "\n",
              "        Culmen Length (mm)  Culmen Depth (mm)  Flipper Length (mm)  \\\n",
              "count           288.000000         235.000000           337.000000   \n",
              "unique                 NaN                NaN                  NaN   \n",
              "top                    NaN                NaN                  NaN   \n",
              "freq                   NaN                NaN                  NaN   \n",
              "mean             44.429514          17.195745           200.925816   \n",
              "std               5.262364           2.003539            14.069888   \n",
              "min              32.100000          13.200000           172.000000   \n",
              "25%              40.200000          15.550000           190.000000   \n",
              "50%              45.300000          17.500000           197.000000   \n",
              "75%              49.000000          18.800000           213.000000   \n",
              "max              58.000000          21.500000           231.000000   \n",
              "\n",
              "       Body Mass (g)   Sex  \n",
              "count            344   334  \n",
              "unique            96     3  \n",
              "top             3800  MALE  \n",
              "freq              11   168  \n",
              "mean             NaN   NaN  \n",
              "std              NaN   NaN  \n",
              "min              NaN   NaN  \n",
              "25%              NaN   NaN  \n",
              "50%              NaN   NaN  \n",
              "75%              NaN   NaN  \n",
              "max              NaN   NaN  "
            ]
          },
          "execution_count": 8,
          "metadata": {},
          "output_type": "execute_result"
        }
      ],
      "source": [
        "penguin.describe(include = 'all') "
      ]
    },
    {
      "cell_type": "code",
      "execution_count": null,
      "id": "2c103c95",
      "metadata": {
        "id": "2c103c95",
        "outputId": "a0dc841f-79e8-4aa1-8c50-3c0efd40c77c"
      },
      "outputs": [
        {
          "name": "stderr",
          "output_type": "stream",
          "text": [
            "C:\\Users\\sandy\\AppData\\Local\\Temp/ipykernel_14548/4205592437.py:1: FutureWarning: Dropping of nuisance columns in DataFrame reductions (with 'numeric_only=None') is deprecated; in a future version this will raise TypeError.  Select only valid columns before calling the reduction.\n",
            "  penguin.skew() # to examine skewness\n"
          ]
        },
        {
          "data": {
            "text/plain": [
              "Culmen Length (mm)    -0.157126\n",
              "Culmen Depth (mm)     -0.134342\n",
              "Flipper Length (mm)    0.341849\n",
              "dtype: float64"
            ]
          },
          "execution_count": 10,
          "metadata": {},
          "output_type": "execute_result"
        }
      ],
      "source": [
        "penguin.skew() # to examine skewness"
      ]
    },
    {
      "cell_type": "code",
      "execution_count": null,
      "id": "bbf24de0",
      "metadata": {
        "id": "bbf24de0",
        "outputId": "e7f72624-6030-42e7-e9d5-ed63656d6e30"
      },
      "outputs": [
        {
          "name": "stderr",
          "output_type": "stream",
          "text": [
            "C:\\Users\\sandy\\AppData\\Local\\Temp/ipykernel_14548/348940119.py:1: FutureWarning: Dropping of nuisance columns in DataFrame reductions (with 'numeric_only=None') is deprecated; in a future version this will raise TypeError.  Select only valid columns before calling the reduction.\n",
            "  penguin.mean()\n"
          ]
        },
        {
          "data": {
            "text/plain": [
              "Culmen Length (mm)      44.429514\n",
              "Culmen Depth (mm)       17.195745\n",
              "Flipper Length (mm)    200.925816\n",
              "dtype: float64"
            ]
          },
          "execution_count": 11,
          "metadata": {},
          "output_type": "execute_result"
        }
      ],
      "source": [
        "penguin.mean()"
      ]
    },
    {
      "cell_type": "code",
      "execution_count": null,
      "id": "ab8436ec",
      "metadata": {
        "id": "ab8436ec",
        "outputId": "98c05f6b-c11e-4bd4-8a46-b5d5a9a3a068"
      },
      "outputs": [
        {
          "name": "stderr",
          "output_type": "stream",
          "text": [
            "C:\\Users\\sandy\\AppData\\Local\\Temp/ipykernel_14548/3660690124.py:1: FutureWarning: Dropping of nuisance columns in DataFrame reductions (with 'numeric_only=None') is deprecated; in a future version this will raise TypeError.  Select only valid columns before calling the reduction.\n",
            "  penguin.median()\n"
          ]
        },
        {
          "data": {
            "text/plain": [
              "Culmen Length (mm)      45.3\n",
              "Culmen Depth (mm)       17.5\n",
              "Flipper Length (mm)    197.0\n",
              "dtype: float64"
            ]
          },
          "execution_count": 12,
          "metadata": {},
          "output_type": "execute_result"
        }
      ],
      "source": [
        "penguin.median()"
      ]
    },
    {
      "cell_type": "code",
      "execution_count": null,
      "id": "1bb00c55",
      "metadata": {
        "id": "1bb00c55",
        "outputId": "8ecf453e-2828-4137-84d0-addb453e925d"
      },
      "outputs": [
        {
          "data": {
            "text/html": [
              "<div>\n",
              "<style scoped>\n",
              "    .dataframe tbody tr th:only-of-type {\n",
              "        vertical-align: middle;\n",
              "    }\n",
              "\n",
              "    .dataframe tbody tr th {\n",
              "        vertical-align: top;\n",
              "    }\n",
              "\n",
              "    .dataframe thead th {\n",
              "        text-align: right;\n",
              "    }\n",
              "</style>\n",
              "<table border=\"1\" class=\"dataframe\">\n",
              "  <thead>\n",
              "    <tr style=\"text-align: right;\">\n",
              "      <th></th>\n",
              "      <th>Species</th>\n",
              "      <th>Island</th>\n",
              "      <th>Clutch Completion</th>\n",
              "      <th>Culmen Length (mm)</th>\n",
              "      <th>Culmen Depth (mm)</th>\n",
              "      <th>Flipper Length (mm)</th>\n",
              "      <th>Body Mass (g)</th>\n",
              "      <th>Sex</th>\n",
              "    </tr>\n",
              "  </thead>\n",
              "  <tbody>\n",
              "    <tr>\n",
              "      <th>0</th>\n",
              "      <td>Adelie Penguin (Pygoscelis adeliae)</td>\n",
              "      <td>Biscoe</td>\n",
              "      <td>Yes</td>\n",
              "      <td>41.1</td>\n",
              "      <td>19.0</td>\n",
              "      <td>190.0</td>\n",
              "      <td>0</td>\n",
              "      <td>MALE</td>\n",
              "    </tr>\n",
              "    <tr>\n",
              "      <th>1</th>\n",
              "      <td>NaN</td>\n",
              "      <td>NaN</td>\n",
              "      <td>NaN</td>\n",
              "      <td>NaN</td>\n",
              "      <td>NaN</td>\n",
              "      <td>NaN</td>\n",
              "      <td>3700</td>\n",
              "      <td>NaN</td>\n",
              "    </tr>\n",
              "    <tr>\n",
              "      <th>2</th>\n",
              "      <td>NaN</td>\n",
              "      <td>NaN</td>\n",
              "      <td>NaN</td>\n",
              "      <td>NaN</td>\n",
              "      <td>NaN</td>\n",
              "      <td>NaN</td>\n",
              "      <td>3800</td>\n",
              "      <td>NaN</td>\n",
              "    </tr>\n",
              "  </tbody>\n",
              "</table>\n",
              "</div>"
            ],
            "text/plain": [
              "                               Species  Island Clutch Completion  \\\n",
              "0  Adelie Penguin (Pygoscelis adeliae)  Biscoe               Yes   \n",
              "1                                  NaN     NaN               NaN   \n",
              "2                                  NaN     NaN               NaN   \n",
              "\n",
              "   Culmen Length (mm)  Culmen Depth (mm)  Flipper Length (mm) Body Mass (g)  \\\n",
              "0                41.1               19.0                190.0             0   \n",
              "1                 NaN                NaN                  NaN          3700   \n",
              "2                 NaN                NaN                  NaN          3800   \n",
              "\n",
              "    Sex  \n",
              "0  MALE  \n",
              "1   NaN  \n",
              "2   NaN  "
            ]
          },
          "execution_count": 13,
          "metadata": {},
          "output_type": "execute_result"
        }
      ],
      "source": [
        "penguin.mode()"
      ]
    },
    {
      "cell_type": "code",
      "execution_count": null,
      "id": "ccdb0500",
      "metadata": {
        "id": "ccdb0500",
        "outputId": "5737a267-800b-4d4c-a2cb-b1406b86f23e"
      },
      "outputs": [
        {
          "name": "stderr",
          "output_type": "stream",
          "text": [
            "C:\\Users\\sandy\\AppData\\Local\\Temp/ipykernel_14548/3090176597.py:1: FutureWarning: Dropping of nuisance columns in DataFrame reductions (with 'numeric_only=None') is deprecated; in a future version this will raise TypeError.  Select only valid columns before calling the reduction.\n",
            "  penguin.var()\n"
          ]
        },
        {
          "data": {
            "text/plain": [
              "Culmen Length (mm)      27.692471\n",
              "Culmen Depth (mm)        4.014170\n",
              "Flipper Length (mm)    197.961742\n",
              "dtype: float64"
            ]
          },
          "execution_count": 14,
          "metadata": {},
          "output_type": "execute_result"
        }
      ],
      "source": [
        "penguin.var()"
      ]
    },
    {
      "cell_type": "code",
      "execution_count": null,
      "id": "e61373ed",
      "metadata": {
        "id": "e61373ed",
        "outputId": "14f69eff-11ca-4cfe-9baf-e6a95f5cd5e6"
      },
      "outputs": [
        {
          "name": "stderr",
          "output_type": "stream",
          "text": [
            "C:\\Users\\sandy\\AppData\\Local\\Temp/ipykernel_14548/4182437139.py:1: FutureWarning: Dropping of nuisance columns in DataFrame reductions (with 'numeric_only=None') is deprecated; in a future version this will raise TypeError.  Select only valid columns before calling the reduction.\n",
            "  penguin.std()\n"
          ]
        },
        {
          "data": {
            "text/plain": [
              "Culmen Length (mm)      5.262364\n",
              "Culmen Depth (mm)       2.003539\n",
              "Flipper Length (mm)    14.069888\n",
              "dtype: float64"
            ]
          },
          "execution_count": 16,
          "metadata": {},
          "output_type": "execute_result"
        }
      ],
      "source": [
        "penguin.std()"
      ]
    },
    {
      "cell_type": "code",
      "execution_count": null,
      "id": "8a217c27",
      "metadata": {
        "id": "8a217c27"
      },
      "outputs": [],
      "source": [
        "penguin.rename(columns = {'Clutch Completion':'Clutch_Completion', 'Culmen Length (mm)':'Culmen_Length', \n",
        "                         'Culmen Depth (mm)':'Culmen_Depth', 'Flipper Length (mm)':'Flipper_Length', 'Body Mass (g)':'Body_Mass'}, inplace = True)"
      ]
    },
    {
      "cell_type": "code",
      "execution_count": null,
      "id": "2d6598ca",
      "metadata": {
        "id": "2d6598ca",
        "outputId": "6e650bec-5b44-4edf-c287-7ea6ada32364"
      },
      "outputs": [
        {
          "name": "stdout",
          "output_type": "stream",
          "text": [
            "nan\n"
          ]
        }
      ],
      "source": [
        "from scipy import stats\n",
        "# Interquartile range (IQR)\n",
        "IQR = stats.iqr(penguin.Culmen_Depth, interpolation = 'midpoint')\n",
        "  \n",
        "print(IQR)"
      ]
    },
    {
      "cell_type": "code",
      "execution_count": null,
      "id": "47210636",
      "metadata": {
        "id": "47210636"
      },
      "outputs": [],
      "source": []
    }
  ],
  "metadata": {
    "kernelspec": {
      "display_name": "Python 3 (ipykernel)",
      "language": "python",
      "name": "python3"
    },
    "language_info": {
      "codemirror_mode": {
        "name": "ipython",
        "version": 3
      },
      "file_extension": ".py",
      "mimetype": "text/x-python",
      "name": "python",
      "nbconvert_exporter": "python",
      "pygments_lexer": "ipython3",
      "version": "3.9.7"
    },
    "colab": {
      "provenance": []
    }
  },
  "nbformat": 4,
  "nbformat_minor": 5
}