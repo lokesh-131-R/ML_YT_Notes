{
  "cells": [
    {
      "cell_type": "markdown",
      "id": "996f6280",
      "metadata": {
        "id": "996f6280"
      },
      "source": [
        "# Missing values\n",
        "- Missing values are mostly necessary part of a raw data.\n",
        "- When dealing with missing values we must have to be cautious. One approach is always not the correct approach. Even in the same data set you may have to deal different variables in a different way. \n",
        "- Different domain had differnt approach to deal with missing values. For example, in genomics, if more than 1% data is missing we preferred to remove them. In other fields we still prefer to replace then until more than 40% to 50% data is missing. "
      ]
    },
    {
      "cell_type": "markdown",
      "id": "ad7914df",
      "metadata": {
        "id": "ad7914df"
      },
      "source": [
        "## Removing missing values.\n",
        "- If < 1% data is missing, we can remove them based on domain\n",
        "- If a specific column has more than 30% to 40% obervations missing remove them, again domain specific."
      ]
    },
    {
      "cell_type": "markdown",
      "id": "ec4f0d1f",
      "metadata": {
        "id": "ec4f0d1f"
      },
      "source": [
        "## Replace missing values "
      ]
    },
    {
      "cell_type": "code",
      "execution_count": null,
      "id": "1bd663eb",
      "metadata": {
        "id": "1bd663eb"
      },
      "outputs": [],
      "source": [
        "# Importing libraries\n",
        "import numpy as np\n",
        "import pandas as pd\n",
        "import matplotlib.pyplot as plt\n",
        "import seaborn as sns"
      ]
    },
    {
      "cell_type": "code",
      "execution_count": null,
      "id": "46e9424e",
      "metadata": {
        "id": "46e9424e"
      },
      "outputs": [],
      "source": [
        "penguin_raw = pd.read_csv('penguins_lter_manipulated.csv') # reading dataset\n",
        "penguin = penguin_raw.copy()"
      ]
    },
    {
      "cell_type": "code",
      "execution_count": null,
      "id": "08b82f7d",
      "metadata": {
        "id": "08b82f7d",
        "outputId": "29bce608-094a-47fb-adb4-38d1dcd5c4ff"
      },
      "outputs": [
        {
          "data": {
            "text/html": [
              "<div>\n",
              "<style scoped>\n",
              "    .dataframe tbody tr th:only-of-type {\n",
              "        vertical-align: middle;\n",
              "    }\n",
              "\n",
              "    .dataframe tbody tr th {\n",
              "        vertical-align: top;\n",
              "    }\n",
              "\n",
              "    .dataframe thead th {\n",
              "        text-align: right;\n",
              "    }\n",
              "</style>\n",
              "<table border=\"1\" class=\"dataframe\">\n",
              "  <thead>\n",
              "    <tr style=\"text-align: right;\">\n",
              "      <th></th>\n",
              "      <th>studyName</th>\n",
              "      <th>Sample Number</th>\n",
              "      <th>Species</th>\n",
              "      <th>Region</th>\n",
              "      <th>Island</th>\n",
              "      <th>Stage</th>\n",
              "      <th>Individual ID</th>\n",
              "      <th>Clutch Completion</th>\n",
              "      <th>Date Egg</th>\n",
              "      <th>Culmen Length (mm)</th>\n",
              "      <th>Culmen Depth (mm)</th>\n",
              "      <th>Flipper Length (mm)</th>\n",
              "      <th>Body Mass (g)</th>\n",
              "      <th>Sex</th>\n",
              "      <th>Delta 15 N (o/oo)</th>\n",
              "      <th>Delta 13 C (o/oo)</th>\n",
              "      <th>Comments</th>\n",
              "    </tr>\n",
              "  </thead>\n",
              "  <tbody>\n",
              "    <tr>\n",
              "      <th>0</th>\n",
              "      <td>False</td>\n",
              "      <td>False</td>\n",
              "      <td>False</td>\n",
              "      <td>False</td>\n",
              "      <td>False</td>\n",
              "      <td>False</td>\n",
              "      <td>False</td>\n",
              "      <td>False</td>\n",
              "      <td>False</td>\n",
              "      <td>True</td>\n",
              "      <td>True</td>\n",
              "      <td>False</td>\n",
              "      <td>False</td>\n",
              "      <td>False</td>\n",
              "      <td>True</td>\n",
              "      <td>True</td>\n",
              "      <td>False</td>\n",
              "    </tr>\n",
              "    <tr>\n",
              "      <th>1</th>\n",
              "      <td>False</td>\n",
              "      <td>False</td>\n",
              "      <td>False</td>\n",
              "      <td>False</td>\n",
              "      <td>False</td>\n",
              "      <td>False</td>\n",
              "      <td>False</td>\n",
              "      <td>False</td>\n",
              "      <td>False</td>\n",
              "      <td>False</td>\n",
              "      <td>False</td>\n",
              "      <td>False</td>\n",
              "      <td>False</td>\n",
              "      <td>False</td>\n",
              "      <td>False</td>\n",
              "      <td>False</td>\n",
              "      <td>True</td>\n",
              "    </tr>\n",
              "    <tr>\n",
              "      <th>2</th>\n",
              "      <td>False</td>\n",
              "      <td>False</td>\n",
              "      <td>False</td>\n",
              "      <td>False</td>\n",
              "      <td>False</td>\n",
              "      <td>False</td>\n",
              "      <td>False</td>\n",
              "      <td>False</td>\n",
              "      <td>False</td>\n",
              "      <td>False</td>\n",
              "      <td>False</td>\n",
              "      <td>False</td>\n",
              "      <td>False</td>\n",
              "      <td>False</td>\n",
              "      <td>False</td>\n",
              "      <td>False</td>\n",
              "      <td>True</td>\n",
              "    </tr>\n",
              "    <tr>\n",
              "      <th>3</th>\n",
              "      <td>False</td>\n",
              "      <td>False</td>\n",
              "      <td>False</td>\n",
              "      <td>False</td>\n",
              "      <td>False</td>\n",
              "      <td>False</td>\n",
              "      <td>False</td>\n",
              "      <td>False</td>\n",
              "      <td>False</td>\n",
              "      <td>True</td>\n",
              "      <td>True</td>\n",
              "      <td>True</td>\n",
              "      <td>False</td>\n",
              "      <td>True</td>\n",
              "      <td>True</td>\n",
              "      <td>True</td>\n",
              "      <td>False</td>\n",
              "    </tr>\n",
              "    <tr>\n",
              "      <th>4</th>\n",
              "      <td>False</td>\n",
              "      <td>False</td>\n",
              "      <td>False</td>\n",
              "      <td>False</td>\n",
              "      <td>False</td>\n",
              "      <td>False</td>\n",
              "      <td>False</td>\n",
              "      <td>False</td>\n",
              "      <td>False</td>\n",
              "      <td>False</td>\n",
              "      <td>False</td>\n",
              "      <td>False</td>\n",
              "      <td>False</td>\n",
              "      <td>False</td>\n",
              "      <td>False</td>\n",
              "      <td>False</td>\n",
              "      <td>True</td>\n",
              "    </tr>\n",
              "    <tr>\n",
              "      <th>...</th>\n",
              "      <td>...</td>\n",
              "      <td>...</td>\n",
              "      <td>...</td>\n",
              "      <td>...</td>\n",
              "      <td>...</td>\n",
              "      <td>...</td>\n",
              "      <td>...</td>\n",
              "      <td>...</td>\n",
              "      <td>...</td>\n",
              "      <td>...</td>\n",
              "      <td>...</td>\n",
              "      <td>...</td>\n",
              "      <td>...</td>\n",
              "      <td>...</td>\n",
              "      <td>...</td>\n",
              "      <td>...</td>\n",
              "      <td>...</td>\n",
              "    </tr>\n",
              "    <tr>\n",
              "      <th>339</th>\n",
              "      <td>False</td>\n",
              "      <td>False</td>\n",
              "      <td>False</td>\n",
              "      <td>False</td>\n",
              "      <td>False</td>\n",
              "      <td>False</td>\n",
              "      <td>False</td>\n",
              "      <td>False</td>\n",
              "      <td>False</td>\n",
              "      <td>True</td>\n",
              "      <td>True</td>\n",
              "      <td>True</td>\n",
              "      <td>False</td>\n",
              "      <td>True</td>\n",
              "      <td>True</td>\n",
              "      <td>True</td>\n",
              "      <td>True</td>\n",
              "    </tr>\n",
              "    <tr>\n",
              "      <th>340</th>\n",
              "      <td>False</td>\n",
              "      <td>False</td>\n",
              "      <td>False</td>\n",
              "      <td>False</td>\n",
              "      <td>False</td>\n",
              "      <td>False</td>\n",
              "      <td>False</td>\n",
              "      <td>False</td>\n",
              "      <td>False</td>\n",
              "      <td>False</td>\n",
              "      <td>False</td>\n",
              "      <td>False</td>\n",
              "      <td>False</td>\n",
              "      <td>False</td>\n",
              "      <td>False</td>\n",
              "      <td>False</td>\n",
              "      <td>True</td>\n",
              "    </tr>\n",
              "    <tr>\n",
              "      <th>341</th>\n",
              "      <td>False</td>\n",
              "      <td>False</td>\n",
              "      <td>False</td>\n",
              "      <td>False</td>\n",
              "      <td>False</td>\n",
              "      <td>False</td>\n",
              "      <td>False</td>\n",
              "      <td>False</td>\n",
              "      <td>False</td>\n",
              "      <td>False</td>\n",
              "      <td>False</td>\n",
              "      <td>False</td>\n",
              "      <td>False</td>\n",
              "      <td>False</td>\n",
              "      <td>False</td>\n",
              "      <td>False</td>\n",
              "      <td>True</td>\n",
              "    </tr>\n",
              "    <tr>\n",
              "      <th>342</th>\n",
              "      <td>False</td>\n",
              "      <td>False</td>\n",
              "      <td>False</td>\n",
              "      <td>False</td>\n",
              "      <td>False</td>\n",
              "      <td>False</td>\n",
              "      <td>False</td>\n",
              "      <td>False</td>\n",
              "      <td>False</td>\n",
              "      <td>False</td>\n",
              "      <td>False</td>\n",
              "      <td>False</td>\n",
              "      <td>False</td>\n",
              "      <td>False</td>\n",
              "      <td>False</td>\n",
              "      <td>False</td>\n",
              "      <td>True</td>\n",
              "    </tr>\n",
              "    <tr>\n",
              "      <th>343</th>\n",
              "      <td>False</td>\n",
              "      <td>False</td>\n",
              "      <td>False</td>\n",
              "      <td>False</td>\n",
              "      <td>False</td>\n",
              "      <td>False</td>\n",
              "      <td>False</td>\n",
              "      <td>False</td>\n",
              "      <td>False</td>\n",
              "      <td>False</td>\n",
              "      <td>False</td>\n",
              "      <td>False</td>\n",
              "      <td>False</td>\n",
              "      <td>False</td>\n",
              "      <td>False</td>\n",
              "      <td>False</td>\n",
              "      <td>True</td>\n",
              "    </tr>\n",
              "  </tbody>\n",
              "</table>\n",
              "<p>344 rows × 17 columns</p>\n",
              "</div>"
            ],
            "text/plain": [
              "     studyName  Sample Number  Species  Region  Island  Stage  Individual ID  \\\n",
              "0        False          False    False   False   False  False          False   \n",
              "1        False          False    False   False   False  False          False   \n",
              "2        False          False    False   False   False  False          False   \n",
              "3        False          False    False   False   False  False          False   \n",
              "4        False          False    False   False   False  False          False   \n",
              "..         ...            ...      ...     ...     ...    ...            ...   \n",
              "339      False          False    False   False   False  False          False   \n",
              "340      False          False    False   False   False  False          False   \n",
              "341      False          False    False   False   False  False          False   \n",
              "342      False          False    False   False   False  False          False   \n",
              "343      False          False    False   False   False  False          False   \n",
              "\n",
              "     Clutch Completion  Date Egg  Culmen Length (mm)  Culmen Depth (mm)  \\\n",
              "0                False     False                True               True   \n",
              "1                False     False               False              False   \n",
              "2                False     False               False              False   \n",
              "3                False     False                True               True   \n",
              "4                False     False               False              False   \n",
              "..                 ...       ...                 ...                ...   \n",
              "339              False     False                True               True   \n",
              "340              False     False               False              False   \n",
              "341              False     False               False              False   \n",
              "342              False     False               False              False   \n",
              "343              False     False               False              False   \n",
              "\n",
              "     Flipper Length (mm)  Body Mass (g)    Sex  Delta 15 N (o/oo)  \\\n",
              "0                  False          False  False               True   \n",
              "1                  False          False  False              False   \n",
              "2                  False          False  False              False   \n",
              "3                   True          False   True               True   \n",
              "4                  False          False  False              False   \n",
              "..                   ...            ...    ...                ...   \n",
              "339                 True          False   True               True   \n",
              "340                False          False  False              False   \n",
              "341                False          False  False              False   \n",
              "342                False          False  False              False   \n",
              "343                False          False  False              False   \n",
              "\n",
              "     Delta 13 C (o/oo)  Comments  \n",
              "0                 True     False  \n",
              "1                False      True  \n",
              "2                False      True  \n",
              "3                 True     False  \n",
              "4                False      True  \n",
              "..                 ...       ...  \n",
              "339               True      True  \n",
              "340              False      True  \n",
              "341              False      True  \n",
              "342              False      True  \n",
              "343              False      True  \n",
              "\n",
              "[344 rows x 17 columns]"
            ]
          },
          "execution_count": 3,
          "metadata": {},
          "output_type": "execute_result"
        }
      ],
      "source": [
        "penguin.isnull()"
      ]
    },
    {
      "cell_type": "code",
      "execution_count": null,
      "id": "612e8a58",
      "metadata": {
        "id": "612e8a58"
      },
      "outputs": [],
      "source": [
        "penguin = penguin.drop(['studyName', 'Sample Number', 'Stage', 'Region', 'Date Egg', 'Individual ID', 'Delta 15 N (o/oo)', 'Delta 13 C (o/oo)', 'Comments'], axis = 1)"
      ]
    },
    {
      "cell_type": "code",
      "execution_count": null,
      "id": "1b8d861d",
      "metadata": {
        "id": "1b8d861d",
        "outputId": "acdb97fa-d8cb-4685-eb0c-37eb93e50fc3"
      },
      "outputs": [
        {
          "data": {
            "text/plain": [
              "Species                  0\n",
              "Island                   0\n",
              "Clutch Completion        0\n",
              "Culmen Length (mm)      56\n",
              "Culmen Depth (mm)      109\n",
              "Flipper Length (mm)      7\n",
              "Body Mass (g)            0\n",
              "Sex                     10\n",
              "dtype: int64"
            ]
          },
          "execution_count": 6,
          "metadata": {},
          "output_type": "execute_result"
        }
      ],
      "source": [
        "penguin.isnull().sum()"
      ]
    },
    {
      "cell_type": "code",
      "execution_count": null,
      "id": "366472f8",
      "metadata": {
        "id": "366472f8"
      },
      "outputs": [],
      "source": [
        "penguin.rename(columns = {'Clutch Completion':'Clutch_Completion', 'Culmen Length (mm)':'Culmen_Length', \n",
        "                         'Culmen Depth (mm)':'Culmen_Depth', 'Flipper Length (mm)':'Flipper_Length', 'Body Mass (g)':'Body_Mass'}, inplace = True)"
      ]
    },
    {
      "cell_type": "code",
      "execution_count": null,
      "id": "2344da03",
      "metadata": {
        "id": "2344da03",
        "outputId": "04943811-7119-49bd-e9b2-27be60c86615"
      },
      "outputs": [
        {
          "name": "stdout",
          "output_type": "stream",
          "text": [
            "<class 'pandas.core.frame.DataFrame'>\n",
            "RangeIndex: 344 entries, 0 to 343\n",
            "Data columns (total 8 columns):\n",
            " #   Column             Non-Null Count  Dtype  \n",
            "---  ------             --------------  -----  \n",
            " 0   Species            344 non-null    object \n",
            " 1   Island             344 non-null    object \n",
            " 2   Clutch_Completion  344 non-null    object \n",
            " 3   Culmen_Length      288 non-null    float64\n",
            " 4   Culmen_Depth       235 non-null    float64\n",
            " 5   Flipper_Length     337 non-null    float64\n",
            " 6   Body_Mass          344 non-null    object \n",
            " 7   Sex                334 non-null    object \n",
            "dtypes: float64(3), object(5)\n",
            "memory usage: 21.6+ KB\n"
          ]
        }
      ],
      "source": [
        "penguin.info()"
      ]
    },
    {
      "cell_type": "markdown",
      "id": "11cb13be",
      "metadata": {
        "id": "11cb13be"
      },
      "source": [
        "- Body mass is numeric values but python is reading it as object. Hence, possibility of special characters."
      ]
    },
    {
      "cell_type": "code",
      "execution_count": null,
      "id": "b2a2f58a",
      "metadata": {
        "id": "b2a2f58a",
        "outputId": "1b3d12d5-d1ee-4597-a90b-395e574d40e9"
      },
      "outputs": [
        {
          "data": {
            "text/plain": [
              "array(['3750', '3800', '3250', '.', '3450', '3650', '3625', '4675', '0',\n",
              "       '4250', '3300', '3700', '3200', '4400', '4500', '3325', '4200',\n",
              "       '3400', '3600', '3950', '3150', '3900', '4150', '4650', '3100',\n",
              "       '3000', '4600', '3425', '2975', '3500', '4300', '2900', '3550',\n",
              "       '2850', '4050', '3350', '4100', '3050', '4450', '4000', '4700',\n",
              "       '4350', '3725', '4725', '3075', '2925', '3175', '4775', '3825',\n",
              "       '4275', '4075', '3775', '3875', '3275', '4475', '3975', '3475',\n",
              "       '3525', '3575', '4550', '3850', '4800', '2700', '3675', '5700',\n",
              "       '5400', '5200', '5150', '5550', '5850', '6300', '5350', '5000',\n",
              "       '5050', '5100', '5650', '5250', '6050', '4950', '4750', '4900',\n",
              "       '5300', '4850', '5800', '6000', '5950', '4625', '5450', '5600',\n",
              "       '4875', '4925', '4975', '5500', '4575', '4375', '5750'],\n",
              "      dtype=object)"
            ]
          },
          "execution_count": 10,
          "metadata": {},
          "output_type": "execute_result"
        }
      ],
      "source": [
        "BMI_unique = penguin.Body_Mass.unique()\n",
        "BMI_unique"
      ]
    },
    {
      "cell_type": "markdown",
      "id": "8e40b54b",
      "metadata": {
        "id": "8e40b54b"
      },
      "source": [
        "- There is '.' present in the column, hence python is reading it as object."
      ]
    },
    {
      "cell_type": "code",
      "execution_count": null,
      "id": "78ea3d5e",
      "metadata": {
        "id": "78ea3d5e",
        "outputId": "cdf811ba-80c0-4b9a-f52a-b7287c1721b1"
      },
      "outputs": [
        {
          "data": {
            "text/html": [
              "<div>\n",
              "<style scoped>\n",
              "    .dataframe tbody tr th:only-of-type {\n",
              "        vertical-align: middle;\n",
              "    }\n",
              "\n",
              "    .dataframe tbody tr th {\n",
              "        vertical-align: top;\n",
              "    }\n",
              "\n",
              "    .dataframe thead th {\n",
              "        text-align: right;\n",
              "    }\n",
              "</style>\n",
              "<table border=\"1\" class=\"dataframe\">\n",
              "  <thead>\n",
              "    <tr style=\"text-align: right;\">\n",
              "      <th></th>\n",
              "      <th>Species</th>\n",
              "      <th>Island</th>\n",
              "      <th>Clutch_Completion</th>\n",
              "      <th>Culmen_Length</th>\n",
              "      <th>Culmen_Depth</th>\n",
              "      <th>Flipper_Length</th>\n",
              "      <th>Body_Mass</th>\n",
              "      <th>Sex</th>\n",
              "    </tr>\n",
              "  </thead>\n",
              "  <tbody>\n",
              "    <tr>\n",
              "      <th>0</th>\n",
              "      <td>Adelie Penguin (Pygoscelis adeliae)</td>\n",
              "      <td>Torgersen</td>\n",
              "      <td>Yes</td>\n",
              "      <td>NaN</td>\n",
              "      <td>NaN</td>\n",
              "      <td>181.0</td>\n",
              "      <td>3750</td>\n",
              "      <td>MALE</td>\n",
              "    </tr>\n",
              "    <tr>\n",
              "      <th>1</th>\n",
              "      <td>Adelie Penguin (Pygoscelis adeliae)</td>\n",
              "      <td>Torgersen</td>\n",
              "      <td>Yes</td>\n",
              "      <td>39.5</td>\n",
              "      <td>17.4</td>\n",
              "      <td>186.0</td>\n",
              "      <td>3800</td>\n",
              "      <td>FEMALE</td>\n",
              "    </tr>\n",
              "    <tr>\n",
              "      <th>2</th>\n",
              "      <td>Adelie Penguin (Pygoscelis adeliae)</td>\n",
              "      <td>Torgersen</td>\n",
              "      <td>Yes</td>\n",
              "      <td>40.3</td>\n",
              "      <td>18.0</td>\n",
              "      <td>195.0</td>\n",
              "      <td>3250</td>\n",
              "      <td>FEMALE</td>\n",
              "    </tr>\n",
              "    <tr>\n",
              "      <th>3</th>\n",
              "      <td>Adelie Penguin (Pygoscelis adeliae)</td>\n",
              "      <td>Torgersen</td>\n",
              "      <td>Yes</td>\n",
              "      <td>NaN</td>\n",
              "      <td>NaN</td>\n",
              "      <td>NaN</td>\n",
              "      <td>NaN</td>\n",
              "      <td>NaN</td>\n",
              "    </tr>\n",
              "    <tr>\n",
              "      <th>4</th>\n",
              "      <td>Adelie Penguin (Pygoscelis adeliae)</td>\n",
              "      <td>Torgersen</td>\n",
              "      <td>Yes</td>\n",
              "      <td>36.7</td>\n",
              "      <td>19.3</td>\n",
              "      <td>193.0</td>\n",
              "      <td>3450</td>\n",
              "      <td>FEMALE</td>\n",
              "    </tr>\n",
              "  </tbody>\n",
              "</table>\n",
              "</div>"
            ],
            "text/plain": [
              "                               Species     Island Clutch_Completion  \\\n",
              "0  Adelie Penguin (Pygoscelis adeliae)  Torgersen               Yes   \n",
              "1  Adelie Penguin (Pygoscelis adeliae)  Torgersen               Yes   \n",
              "2  Adelie Penguin (Pygoscelis adeliae)  Torgersen               Yes   \n",
              "3  Adelie Penguin (Pygoscelis adeliae)  Torgersen               Yes   \n",
              "4  Adelie Penguin (Pygoscelis adeliae)  Torgersen               Yes   \n",
              "\n",
              "   Culmen_Length  Culmen_Depth  Flipper_Length Body_Mass     Sex  \n",
              "0            NaN           NaN           181.0      3750    MALE  \n",
              "1           39.5          17.4           186.0      3800  FEMALE  \n",
              "2           40.3          18.0           195.0      3250  FEMALE  \n",
              "3            NaN           NaN             NaN       NaN     NaN  \n",
              "4           36.7          19.3           193.0      3450  FEMALE  "
            ]
          },
          "execution_count": 11,
          "metadata": {},
          "output_type": "execute_result"
        }
      ],
      "source": [
        "# Replacing . with NaN\n",
        "penguin = penguin.replace('\\.+', np.nan, regex=True)\n",
        "penguin.head()"
      ]
    },
    {
      "cell_type": "code",
      "execution_count": null,
      "id": "befefe3d",
      "metadata": {
        "id": "befefe3d"
      },
      "outputs": [],
      "source": [
        "penguin['Body_Mass'] = pd.to_numeric(penguin['Body_Mass'], errors='coerce')"
      ]
    },
    {
      "cell_type": "code",
      "execution_count": null,
      "id": "5e958c89",
      "metadata": {
        "id": "5e958c89",
        "outputId": "9a67b3f0-79c6-4faf-c392-ded58b8a7ed9"
      },
      "outputs": [
        {
          "name": "stdout",
          "output_type": "stream",
          "text": [
            "<class 'pandas.core.frame.DataFrame'>\n",
            "RangeIndex: 344 entries, 0 to 343\n",
            "Data columns (total 8 columns):\n",
            " #   Column             Non-Null Count  Dtype  \n",
            "---  ------             --------------  -----  \n",
            " 0   Species            344 non-null    object \n",
            " 1   Island             344 non-null    object \n",
            " 2   Clutch_Completion  344 non-null    object \n",
            " 3   Culmen_Length      288 non-null    float64\n",
            " 4   Culmen_Depth       235 non-null    float64\n",
            " 5   Flipper_Length     337 non-null    float64\n",
            " 6   Body_Mass          334 non-null    float64\n",
            " 7   Sex                333 non-null    object \n",
            "dtypes: float64(4), object(4)\n",
            "memory usage: 21.6+ KB\n"
          ]
        }
      ],
      "source": [
        "penguin.info()"
      ]
    },
    {
      "cell_type": "code",
      "execution_count": null,
      "id": "705c7c04",
      "metadata": {
        "id": "705c7c04",
        "outputId": "e9a5b935-2af5-4c45-cdf8-553790edec36"
      },
      "outputs": [
        {
          "data": {
            "text/html": [
              "<div>\n",
              "<style scoped>\n",
              "    .dataframe tbody tr th:only-of-type {\n",
              "        vertical-align: middle;\n",
              "    }\n",
              "\n",
              "    .dataframe tbody tr th {\n",
              "        vertical-align: top;\n",
              "    }\n",
              "\n",
              "    .dataframe thead th {\n",
              "        text-align: right;\n",
              "    }\n",
              "</style>\n",
              "<table border=\"1\" class=\"dataframe\">\n",
              "  <thead>\n",
              "    <tr style=\"text-align: right;\">\n",
              "      <th></th>\n",
              "      <th>Species</th>\n",
              "      <th>Island</th>\n",
              "      <th>Clutch_Completion</th>\n",
              "      <th>Culmen_Length</th>\n",
              "      <th>Culmen_Depth</th>\n",
              "      <th>Flipper_Length</th>\n",
              "      <th>Body_Mass</th>\n",
              "      <th>Sex</th>\n",
              "    </tr>\n",
              "  </thead>\n",
              "  <tbody>\n",
              "    <tr>\n",
              "      <th>count</th>\n",
              "      <td>344</td>\n",
              "      <td>344</td>\n",
              "      <td>344</td>\n",
              "      <td>288.000000</td>\n",
              "      <td>235.000000</td>\n",
              "      <td>337.000000</td>\n",
              "      <td>334.000000</td>\n",
              "      <td>333</td>\n",
              "    </tr>\n",
              "    <tr>\n",
              "      <th>unique</th>\n",
              "      <td>3</td>\n",
              "      <td>3</td>\n",
              "      <td>2</td>\n",
              "      <td>NaN</td>\n",
              "      <td>NaN</td>\n",
              "      <td>NaN</td>\n",
              "      <td>NaN</td>\n",
              "      <td>2</td>\n",
              "    </tr>\n",
              "    <tr>\n",
              "      <th>top</th>\n",
              "      <td>Adelie Penguin (Pygoscelis adeliae)</td>\n",
              "      <td>Biscoe</td>\n",
              "      <td>Yes</td>\n",
              "      <td>NaN</td>\n",
              "      <td>NaN</td>\n",
              "      <td>NaN</td>\n",
              "      <td>NaN</td>\n",
              "      <td>MALE</td>\n",
              "    </tr>\n",
              "    <tr>\n",
              "      <th>freq</th>\n",
              "      <td>152</td>\n",
              "      <td>168</td>\n",
              "      <td>308</td>\n",
              "      <td>NaN</td>\n",
              "      <td>NaN</td>\n",
              "      <td>NaN</td>\n",
              "      <td>NaN</td>\n",
              "      <td>168</td>\n",
              "    </tr>\n",
              "    <tr>\n",
              "      <th>mean</th>\n",
              "      <td>NaN</td>\n",
              "      <td>NaN</td>\n",
              "      <td>NaN</td>\n",
              "      <td>44.429514</td>\n",
              "      <td>17.195745</td>\n",
              "      <td>200.925816</td>\n",
              "      <td>4081.961078</td>\n",
              "      <td>NaN</td>\n",
              "    </tr>\n",
              "    <tr>\n",
              "      <th>std</th>\n",
              "      <td>NaN</td>\n",
              "      <td>NaN</td>\n",
              "      <td>NaN</td>\n",
              "      <td>5.262364</td>\n",
              "      <td>2.003539</td>\n",
              "      <td>14.069888</td>\n",
              "      <td>1098.042129</td>\n",
              "      <td>NaN</td>\n",
              "    </tr>\n",
              "    <tr>\n",
              "      <th>min</th>\n",
              "      <td>NaN</td>\n",
              "      <td>NaN</td>\n",
              "      <td>NaN</td>\n",
              "      <td>32.100000</td>\n",
              "      <td>13.200000</td>\n",
              "      <td>172.000000</td>\n",
              "      <td>0.000000</td>\n",
              "      <td>NaN</td>\n",
              "    </tr>\n",
              "    <tr>\n",
              "      <th>25%</th>\n",
              "      <td>NaN</td>\n",
              "      <td>NaN</td>\n",
              "      <td>NaN</td>\n",
              "      <td>40.200000</td>\n",
              "      <td>15.550000</td>\n",
              "      <td>190.000000</td>\n",
              "      <td>3500.000000</td>\n",
              "      <td>NaN</td>\n",
              "    </tr>\n",
              "    <tr>\n",
              "      <th>50%</th>\n",
              "      <td>NaN</td>\n",
              "      <td>NaN</td>\n",
              "      <td>NaN</td>\n",
              "      <td>45.300000</td>\n",
              "      <td>17.500000</td>\n",
              "      <td>197.000000</td>\n",
              "      <td>4000.000000</td>\n",
              "      <td>NaN</td>\n",
              "    </tr>\n",
              "    <tr>\n",
              "      <th>75%</th>\n",
              "      <td>NaN</td>\n",
              "      <td>NaN</td>\n",
              "      <td>NaN</td>\n",
              "      <td>49.000000</td>\n",
              "      <td>18.800000</td>\n",
              "      <td>213.000000</td>\n",
              "      <td>4768.750000</td>\n",
              "      <td>NaN</td>\n",
              "    </tr>\n",
              "    <tr>\n",
              "      <th>max</th>\n",
              "      <td>NaN</td>\n",
              "      <td>NaN</td>\n",
              "      <td>NaN</td>\n",
              "      <td>58.000000</td>\n",
              "      <td>21.500000</td>\n",
              "      <td>231.000000</td>\n",
              "      <td>6300.000000</td>\n",
              "      <td>NaN</td>\n",
              "    </tr>\n",
              "  </tbody>\n",
              "</table>\n",
              "</div>"
            ],
            "text/plain": [
              "                                    Species  Island Clutch_Completion  \\\n",
              "count                                   344     344               344   \n",
              "unique                                    3       3                 2   \n",
              "top     Adelie Penguin (Pygoscelis adeliae)  Biscoe               Yes   \n",
              "freq                                    152     168               308   \n",
              "mean                                    NaN     NaN               NaN   \n",
              "std                                     NaN     NaN               NaN   \n",
              "min                                     NaN     NaN               NaN   \n",
              "25%                                     NaN     NaN               NaN   \n",
              "50%                                     NaN     NaN               NaN   \n",
              "75%                                     NaN     NaN               NaN   \n",
              "max                                     NaN     NaN               NaN   \n",
              "\n",
              "        Culmen_Length  Culmen_Depth  Flipper_Length    Body_Mass   Sex  \n",
              "count      288.000000    235.000000      337.000000   334.000000   333  \n",
              "unique            NaN           NaN             NaN          NaN     2  \n",
              "top               NaN           NaN             NaN          NaN  MALE  \n",
              "freq              NaN           NaN             NaN          NaN   168  \n",
              "mean        44.429514     17.195745      200.925816  4081.961078   NaN  \n",
              "std          5.262364      2.003539       14.069888  1098.042129   NaN  \n",
              "min         32.100000     13.200000      172.000000     0.000000   NaN  \n",
              "25%         40.200000     15.550000      190.000000  3500.000000   NaN  \n",
              "50%         45.300000     17.500000      197.000000  4000.000000   NaN  \n",
              "75%         49.000000     18.800000      213.000000  4768.750000   NaN  \n",
              "max         58.000000     21.500000      231.000000  6300.000000   NaN  "
            ]
          },
          "execution_count": 14,
          "metadata": {},
          "output_type": "execute_result"
        }
      ],
      "source": [
        "penguin.describe(include = 'all')"
      ]
    },
    {
      "cell_type": "code",
      "execution_count": null,
      "id": "f65ad4e5",
      "metadata": {
        "id": "f65ad4e5",
        "outputId": "fd059fa3-3b12-494b-db6f-8d264b7ef4f3"
      },
      "outputs": [
        {
          "data": {
            "text/plain": [
              "<matplotlib.legend.Legend at 0x209665e40a0>"
            ]
          },
          "execution_count": 15,
          "metadata": {},
          "output_type": "execute_result"
        },
        {
          "data": {
            "image/png": "[encoded data removed]",
            "text/plain": [
              "<Figure size 432x288 with 1 Axes>"
            ]
          },
          "metadata": {
            "needs_background": "light"
          },
          "output_type": "display_data"
        }
      ],
      "source": [
        "sns.histplot(data = penguin['Body_Mass'], kde = True)\n",
        "plt.axvline(x=penguin.Body_Mass.mean(),color='red',alpha=0.5,label='Mean')\n",
        "plt.axvline(x=penguin.Body_Mass.median(),c='blue',ls='--',alpha=0.5,label='Median')\n",
        "plt.legend()"
      ]
    },
    {
      "cell_type": "markdown",
      "id": "e268b3ab",
      "metadata": {
        "id": "e268b3ab"
      },
      "source": [
        "- Histogram suggests there are many values entered as 0 for BMI. It seems missing values may be entered as 0. Hence, these values should be replaced as NaN. "
      ]
    },
    {
      "cell_type": "code",
      "execution_count": null,
      "id": "2c071bd2",
      "metadata": {
        "id": "2c071bd2",
        "outputId": "459e367c-b80b-4d39-b3af-692d0f47304b"
      },
      "outputs": [
        {
          "data": {
            "text/plain": [
              "8      0.0\n",
              "13     0.0\n",
              "36     0.0\n",
              "37     0.0\n",
              "70     0.0\n",
              "71     0.0\n",
              "90     0.0\n",
              "125    0.0\n",
              "154    0.0\n",
              "192    0.0\n",
              "236    0.0\n",
              "Name: Body_Mass, dtype: float64"
            ]
          },
          "execution_count": 16,
          "metadata": {},
          "output_type": "execute_result"
        }
      ],
      "source": [
        "penguin.Body_Mass[penguin.Body_Mass == 0]"
      ]
    },
    {
      "cell_type": "code",
      "execution_count": null,
      "id": "21e50063",
      "metadata": {
        "id": "21e50063",
        "outputId": "e8893b8b-c340-41e1-8a54-e69f9f87a993"
      },
      "outputs": [
        {
          "name": "stderr",
          "output_type": "stream",
          "text": [
            "C:\\Users\\sandy\\AppData\\Local\\Temp/ipykernel_20256/1950505643.py:1: SettingWithCopyWarning: \n",
            "A value is trying to be set on a copy of a slice from a DataFrame\n",
            "\n",
            "See the caveats in the documentation: https://pandas.pydata.org/pandas-docs/stable/user_guide/indexing.html#returning-a-view-versus-a-copy\n",
            "  penguin.Body_Mass[penguin.Body_Mass == 0] = np.nan\n"
          ]
        },
        {
          "data": {
            "text/plain": [
              "3     NaN\n",
              "8     NaN\n",
              "13    NaN\n",
              "26    NaN\n",
              "36    NaN\n",
              "37    NaN\n",
              "53    NaN\n",
              "70    NaN\n",
              "71    NaN\n",
              "83    NaN\n",
              "90    NaN\n",
              "98    NaN\n",
              "125   NaN\n",
              "128   NaN\n",
              "154   NaN\n",
              "171   NaN\n",
              "192   NaN\n",
              "236   NaN\n",
              "288   NaN\n",
              "339   NaN\n",
              "342   NaN\n",
              "Name: Body_Mass, dtype: float64"
            ]
          },
          "execution_count": 17,
          "metadata": {},
          "output_type": "execute_result"
        }
      ],
      "source": [
        "penguin.Body_Mass[penguin.Body_Mass == 0] = np.nan\n",
        "penguin.Body_Mass[np.isnan(penguin.Body_Mass)]"
      ]
    },
    {
      "cell_type": "markdown",
      "id": "45e8e481",
      "metadata": {
        "id": "45e8e481"
      },
      "source": [
        "## Analyzing the amount of missing data\n"
      ]
    },
    {
      "cell_type": "code",
      "execution_count": null,
      "id": "31bbf965",
      "metadata": {
        "id": "31bbf965",
        "outputId": "cbffb3b9-da8d-4c6d-f800-e2c0cb0fe532"
      },
      "outputs": [
        {
          "data": {
            "text/html": [
              "<div>\n",
              "<style scoped>\n",
              "    .dataframe tbody tr th:only-of-type {\n",
              "        vertical-align: middle;\n",
              "    }\n",
              "\n",
              "    .dataframe tbody tr th {\n",
              "        vertical-align: top;\n",
              "    }\n",
              "\n",
              "    .dataframe thead th {\n",
              "        text-align: right;\n",
              "    }\n",
              "</style>\n",
              "<table border=\"1\" class=\"dataframe\">\n",
              "  <thead>\n",
              "    <tr style=\"text-align: right;\">\n",
              "      <th></th>\n",
              "      <th>Species</th>\n",
              "      <th>Island</th>\n",
              "      <th>Clutch_Completion</th>\n",
              "      <th>Culmen_Length</th>\n",
              "      <th>Culmen_Depth</th>\n",
              "      <th>Flipper_Length</th>\n",
              "      <th>Body_Mass</th>\n",
              "      <th>Sex</th>\n",
              "    </tr>\n",
              "  </thead>\n",
              "  <tbody>\n",
              "    <tr>\n",
              "      <th>0</th>\n",
              "      <td>False</td>\n",
              "      <td>False</td>\n",
              "      <td>False</td>\n",
              "      <td>True</td>\n",
              "      <td>True</td>\n",
              "      <td>False</td>\n",
              "      <td>False</td>\n",
              "      <td>False</td>\n",
              "    </tr>\n",
              "    <tr>\n",
              "      <th>1</th>\n",
              "      <td>False</td>\n",
              "      <td>False</td>\n",
              "      <td>False</td>\n",
              "      <td>False</td>\n",
              "      <td>False</td>\n",
              "      <td>False</td>\n",
              "      <td>False</td>\n",
              "      <td>False</td>\n",
              "    </tr>\n",
              "    <tr>\n",
              "      <th>2</th>\n",
              "      <td>False</td>\n",
              "      <td>False</td>\n",
              "      <td>False</td>\n",
              "      <td>False</td>\n",
              "      <td>False</td>\n",
              "      <td>False</td>\n",
              "      <td>False</td>\n",
              "      <td>False</td>\n",
              "    </tr>\n",
              "    <tr>\n",
              "      <th>3</th>\n",
              "      <td>False</td>\n",
              "      <td>False</td>\n",
              "      <td>False</td>\n",
              "      <td>True</td>\n",
              "      <td>True</td>\n",
              "      <td>True</td>\n",
              "      <td>True</td>\n",
              "      <td>True</td>\n",
              "    </tr>\n",
              "    <tr>\n",
              "      <th>4</th>\n",
              "      <td>False</td>\n",
              "      <td>False</td>\n",
              "      <td>False</td>\n",
              "      <td>False</td>\n",
              "      <td>False</td>\n",
              "      <td>False</td>\n",
              "      <td>False</td>\n",
              "      <td>False</td>\n",
              "    </tr>\n",
              "    <tr>\n",
              "      <th>...</th>\n",
              "      <td>...</td>\n",
              "      <td>...</td>\n",
              "      <td>...</td>\n",
              "      <td>...</td>\n",
              "      <td>...</td>\n",
              "      <td>...</td>\n",
              "      <td>...</td>\n",
              "      <td>...</td>\n",
              "    </tr>\n",
              "    <tr>\n",
              "      <th>339</th>\n",
              "      <td>False</td>\n",
              "      <td>False</td>\n",
              "      <td>False</td>\n",
              "      <td>True</td>\n",
              "      <td>True</td>\n",
              "      <td>True</td>\n",
              "      <td>True</td>\n",
              "      <td>True</td>\n",
              "    </tr>\n",
              "    <tr>\n",
              "      <th>340</th>\n",
              "      <td>False</td>\n",
              "      <td>False</td>\n",
              "      <td>False</td>\n",
              "      <td>False</td>\n",
              "      <td>False</td>\n",
              "      <td>False</td>\n",
              "      <td>False</td>\n",
              "      <td>False</td>\n",
              "    </tr>\n",
              "    <tr>\n",
              "      <th>341</th>\n",
              "      <td>False</td>\n",
              "      <td>False</td>\n",
              "      <td>False</td>\n",
              "      <td>False</td>\n",
              "      <td>False</td>\n",
              "      <td>False</td>\n",
              "      <td>False</td>\n",
              "      <td>False</td>\n",
              "    </tr>\n",
              "    <tr>\n",
              "      <th>342</th>\n",
              "      <td>False</td>\n",
              "      <td>False</td>\n",
              "      <td>False</td>\n",
              "      <td>False</td>\n",
              "      <td>False</td>\n",
              "      <td>False</td>\n",
              "      <td>True</td>\n",
              "      <td>False</td>\n",
              "    </tr>\n",
              "    <tr>\n",
              "      <th>343</th>\n",
              "      <td>False</td>\n",
              "      <td>False</td>\n",
              "      <td>False</td>\n",
              "      <td>False</td>\n",
              "      <td>False</td>\n",
              "      <td>False</td>\n",
              "      <td>False</td>\n",
              "      <td>False</td>\n",
              "    </tr>\n",
              "  </tbody>\n",
              "</table>\n",
              "<p>344 rows × 8 columns</p>\n",
              "</div>"
            ],
            "text/plain": [
              "     Species  Island  Clutch_Completion  Culmen_Length  Culmen_Depth  \\\n",
              "0      False   False              False           True          True   \n",
              "1      False   False              False          False         False   \n",
              "2      False   False              False          False         False   \n",
              "3      False   False              False           True          True   \n",
              "4      False   False              False          False         False   \n",
              "..       ...     ...                ...            ...           ...   \n",
              "339    False   False              False           True          True   \n",
              "340    False   False              False          False         False   \n",
              "341    False   False              False          False         False   \n",
              "342    False   False              False          False         False   \n",
              "343    False   False              False          False         False   \n",
              "\n",
              "     Flipper_Length  Body_Mass    Sex  \n",
              "0             False      False  False  \n",
              "1             False      False  False  \n",
              "2             False      False  False  \n",
              "3              True       True   True  \n",
              "4             False      False  False  \n",
              "..              ...        ...    ...  \n",
              "339            True       True   True  \n",
              "340           False      False  False  \n",
              "341           False      False  False  \n",
              "342           False       True  False  \n",
              "343           False      False  False  \n",
              "\n",
              "[344 rows x 8 columns]"
            ]
          },
          "execution_count": 19,
          "metadata": {},
          "output_type": "execute_result"
        }
      ],
      "source": [
        "penguin_missing = penguin.isnull()\n",
        "penguin_missing"
      ]
    },
    {
      "cell_type": "code",
      "execution_count": null,
      "id": "97cba003",
      "metadata": {
        "id": "97cba003",
        "outputId": "d51907b0-03a4-413f-a750-a4fbca2ab215"
      },
      "outputs": [
        {
          "data": {
            "text/plain": [
              "Species                0\n",
              "Island                 0\n",
              "Clutch_Completion      0\n",
              "Culmen_Length         56\n",
              "Culmen_Depth         109\n",
              "Flipper_Length         7\n",
              "Body_Mass             21\n",
              "Sex                   11\n",
              "dtype: int64"
            ]
          },
          "execution_count": 20,
          "metadata": {},
          "output_type": "execute_result"
        }
      ],
      "source": [
        "# Total missing values\n",
        "penguin_missing.sum()"
      ]
    },
    {
      "cell_type": "code",
      "execution_count": null,
      "id": "19609e4d",
      "metadata": {
        "id": "19609e4d",
        "outputId": "b73d3fa1-093d-4f81-faf8-645c491146df"
      },
      "outputs": [
        {
          "data": {
            "text/plain": [
              "Species               0.000000\n",
              "Island                0.000000\n",
              "Clutch_Completion     0.000000\n",
              "Culmen_Length        16.279070\n",
              "Culmen_Depth         31.686047\n",
              "Flipper_Length        2.034884\n",
              "Body_Mass             6.104651\n",
              "Sex                   3.197674\n",
              "dtype: float64"
            ]
          },
          "execution_count": 21,
          "metadata": {},
          "output_type": "execute_result"
        }
      ],
      "source": [
        "# Percentage of missing values\n",
        "penguin_missing.mean() * 100"
      ]
    },
    {
      "cell_type": "code",
      "execution_count": null,
      "id": "444d0f8b",
      "metadata": {
        "id": "444d0f8b"
      },
      "outputs": [],
      "source": [
        "import missingno as msno # library to examine missing values"
      ]
    },
    {
      "cell_type": "code",
      "execution_count": null,
      "id": "a6d2b4d5",
      "metadata": {
        "id": "a6d2b4d5",
        "outputId": "f0a2b2dd-6cb5-4098-ab4d-04c7150b29e2"
      },
      "outputs": [
        {
          "data": {
            "text/plain": [
              "<AxesSubplot:>"
            ]
          },
          "execution_count": 23,
          "metadata": {},
          "output_type": "execute_result"
        },
        {
          "data": {
            "image/png": "[encoded data removed]",
            "text/plain": [
              "<Figure size 1728x720 with 3 Axes>"
            ]
          },
          "metadata": {
            "needs_background": "light"
          },
          "output_type": "display_data"
        }
      ],
      "source": [
        "# creating bar plot to see the missing values\n",
        "msno.bar(penguin)"
      ]
    },
    {
      "cell_type": "code",
      "execution_count": null,
      "id": "2b811fd0",
      "metadata": {
        "id": "2b811fd0",
        "outputId": "555aee19-c4ab-4bee-8836-a62fd1471a0b"
      },
      "outputs": [
        {
          "data": {
            "text/plain": [
              "<AxesSubplot:>"
            ]
          },
          "execution_count": 24,
          "metadata": {},
          "output_type": "execute_result"
        },
        {
          "data": {
            "image/png": "[encoded data removed]",
            "text/plain": [
              "<Figure size 1800x720 with 2 Axes>"
            ]
          },
          "metadata": {
            "needs_background": "light"
          },
          "output_type": "display_data"
        }
      ],
      "source": [
        "# creating matrix plot to see the pattern in missing values \n",
        "msno.matrix(penguin)"
      ]
    },
    {
      "cell_type": "markdown",
      "id": "b431c0d2",
      "metadata": {
        "id": "b431c0d2"
      },
      "source": [
        "**Missing values will be blank**\n",
        "\n",
        "**Spark line on the right summarizes the general shape of data of completeness and points out the row the minimal number of null values and total count of the columns at the bottom.**\n",
        "\n",
        "**This plot is extremely useful for time series dataset where you can easily explore pattern in the dataset.**"
      ]
    },
    {
      "cell_type": "markdown",
      "id": "eec46151",
      "metadata": {
        "id": "eec46151"
      },
      "source": [
        "### Is there any pattern in missing data?\n",
        "**Manipulated penguin dataset**\n",
        "- Missing values can be of multiple types\n"
      ]
    },
    {
      "cell_type": "markdown",
      "id": "b54702ff",
      "metadata": {
        "id": "b54702ff"
      },
      "source": [
        "**1- Missing completely at random (MCAR)**: \"Missingness has no relationship between any values, observed or missing.\""
      ]
    },
    {
      "cell_type": "markdown",
      "id": "41df423a",
      "metadata": {
        "id": "41df423a"
      },
      "source": [
        "**2- Missing at Ranodm (MAR)**: \"There is a systematic relationship between missingness and other observed data, but not\n",
        "the missing data\"."
      ]
    },
    {
      "cell_type": "markdown",
      "id": "63c0d4bb",
      "metadata": {
        "id": "63c0d4bb"
      },
      "source": [
        "**3- Missing not at Random (MNAR)**: \"There is a relationship between missingness and its values, missing or non-missing.\""
      ]
    },
    {
      "cell_type": "code",
      "execution_count": null,
      "id": "636f5c97",
      "metadata": {
        "id": "636f5c97",
        "outputId": "ba095da4-bed8-4cfb-d041-3543567a2766"
      },
      "outputs": [
        {
          "data": {
            "text/plain": [
              "<AxesSubplot:>"
            ]
          },
          "execution_count": 25,
          "metadata": {},
          "output_type": "execute_result"
        },
        {
          "data": {
            "image/png": "[encoded data removed]",
            "text/plain": [
              "<Figure size 1800x720 with 2 Axes>"
            ]
          },
          "metadata": {
            "needs_background": "light"
          },
          "output_type": "display_data"
        }
      ],
      "source": [
        "sorted = penguin.sort_values('Culmen_Depth')\n",
        "msno.matrix(sorted)"
      ]
    },
    {
      "cell_type": "markdown",
      "id": "2beb311f",
      "metadata": {
        "id": "2beb311f"
      },
      "source": [
        "- It seems there is a clear relationship between culmen length and culmen depth."
      ]
    },
    {
      "cell_type": "markdown",
      "id": "b5c967a7",
      "metadata": {
        "id": "b5c967a7"
      },
      "source": [
        "## Finding correlation between missing values"
      ]
    },
    {
      "cell_type": "code",
      "execution_count": null,
      "id": "5d6b23e7",
      "metadata": {
        "id": "5d6b23e7",
        "outputId": "aabf52fd-619f-40c9-9354-9a6dce2744d7"
      },
      "outputs": [
        {
          "data": {
            "text/plain": [
              "<AxesSubplot:>"
            ]
          },
          "execution_count": 26,
          "metadata": {},
          "output_type": "execute_result"
        },
        {
          "data": {
            "image/png": "[encoded data removed]",
            "text/plain": [
              "<Figure size 1440x864 with 2 Axes>"
            ]
          },
          "metadata": {
            "needs_background": "light"
          },
          "output_type": "display_data"
        }
      ],
      "source": [
        "msno.heatmap(penguin)"
      ]
    },
    {
      "cell_type": "markdown",
      "id": "bf00e247",
      "metadata": {
        "id": "bf00e247"
      },
      "source": [
        "### Types of deletion when to delete and when not to delete\n",
        "\n",
        "**1- Pairwise deletion**: we only skip the missing values (summing a column or calculating mean)\n",
        "\n",
        "**2- Listwise deletion**: we delete the complete row\n",
        "\n",
        "Only for MCAR\n",
        "\n",
        "Use when number of missing values are extremely small, again domain specific."
      ]
    },
    {
      "cell_type": "markdown",
      "id": "03508377",
      "metadata": {
        "id": "03508377"
      },
      "source": [
        "### Creating dummy variables\n",
        "\n",
        "- Remember NaN are float in python"
      ]
    },
    {
      "cell_type": "code",
      "execution_count": null,
      "id": "328f330f",
      "metadata": {
        "id": "328f330f"
      },
      "outputs": [],
      "source": [
        "## Converting males to 0 and females to 1\n",
        "penguin['Sex'] = penguin.Sex.map({'MALE': 0, 'FEMALE':1})\n",
        "\n",
        "## Converting clutch completion no = 0  and yes = 1\n",
        "penguin['Clutch_Completion'] = penguin.Clutch_Completion.map({'No': 0, 'Yes':1})\n",
        "\n",
        "## Converting species Adelie = 0 chinstrap = 1, and Gentoo = 2\n",
        "penguin['Species'] = penguin.Species.map({'Adelie Penguin (Pygoscelis adeliae)': 0, 'Chinstrap penguin (Pygoscelis antarctica)':1,\n",
        "                                                   'Gentoo penguin (Pygoscelis papua)':2})\n",
        "\n",
        "## Converting Island Biscoe = 0 Dream = 1, and Torgersen = 2\n",
        "penguin['Island'] = penguin.Island.map({'Biscoe': 0, 'Dream':1,\n",
        "                                                   'Torgersen':2})"
      ]
    },
    {
      "cell_type": "code",
      "execution_count": null,
      "id": "eff6bc17",
      "metadata": {
        "id": "eff6bc17",
        "outputId": "1b3f61db-d81b-4d20-bce5-19ff9379c794"
      },
      "outputs": [
        {
          "data": {
            "text/html": [
              "<div>\n",
              "<style scoped>\n",
              "    .dataframe tbody tr th:only-of-type {\n",
              "        vertical-align: middle;\n",
              "    }\n",
              "\n",
              "    .dataframe tbody tr th {\n",
              "        vertical-align: top;\n",
              "    }\n",
              "\n",
              "    .dataframe thead th {\n",
              "        text-align: right;\n",
              "    }\n",
              "</style>\n",
              "<table border=\"1\" class=\"dataframe\">\n",
              "  <thead>\n",
              "    <tr style=\"text-align: right;\">\n",
              "      <th></th>\n",
              "      <th>Species</th>\n",
              "      <th>Island</th>\n",
              "      <th>Clutch_Completion</th>\n",
              "      <th>Culmen_Length</th>\n",
              "      <th>Culmen_Depth</th>\n",
              "      <th>Flipper_Length</th>\n",
              "      <th>Body_Mass</th>\n",
              "      <th>Sex</th>\n",
              "    </tr>\n",
              "  </thead>\n",
              "  <tbody>\n",
              "    <tr>\n",
              "      <th>0</th>\n",
              "      <td>0</td>\n",
              "      <td>2</td>\n",
              "      <td>1</td>\n",
              "      <td>NaN</td>\n",
              "      <td>NaN</td>\n",
              "      <td>181.0</td>\n",
              "      <td>3750.0</td>\n",
              "      <td>0.0</td>\n",
              "    </tr>\n",
              "    <tr>\n",
              "      <th>1</th>\n",
              "      <td>0</td>\n",
              "      <td>2</td>\n",
              "      <td>1</td>\n",
              "      <td>39.5</td>\n",
              "      <td>17.4</td>\n",
              "      <td>186.0</td>\n",
              "      <td>3800.0</td>\n",
              "      <td>1.0</td>\n",
              "    </tr>\n",
              "    <tr>\n",
              "      <th>2</th>\n",
              "      <td>0</td>\n",
              "      <td>2</td>\n",
              "      <td>1</td>\n",
              "      <td>40.3</td>\n",
              "      <td>18.0</td>\n",
              "      <td>195.0</td>\n",
              "      <td>3250.0</td>\n",
              "      <td>1.0</td>\n",
              "    </tr>\n",
              "    <tr>\n",
              "      <th>3</th>\n",
              "      <td>0</td>\n",
              "      <td>2</td>\n",
              "      <td>1</td>\n",
              "      <td>NaN</td>\n",
              "      <td>NaN</td>\n",
              "      <td>NaN</td>\n",
              "      <td>NaN</td>\n",
              "      <td>NaN</td>\n",
              "    </tr>\n",
              "    <tr>\n",
              "      <th>4</th>\n",
              "      <td>0</td>\n",
              "      <td>2</td>\n",
              "      <td>1</td>\n",
              "      <td>36.7</td>\n",
              "      <td>19.3</td>\n",
              "      <td>193.0</td>\n",
              "      <td>3450.0</td>\n",
              "      <td>1.0</td>\n",
              "    </tr>\n",
              "  </tbody>\n",
              "</table>\n",
              "</div>"
            ],
            "text/plain": [
              "   Species  Island  Clutch_Completion  Culmen_Length  Culmen_Depth  \\\n",
              "0        0       2                  1            NaN           NaN   \n",
              "1        0       2                  1           39.5          17.4   \n",
              "2        0       2                  1           40.3          18.0   \n",
              "3        0       2                  1            NaN           NaN   \n",
              "4        0       2                  1           36.7          19.3   \n",
              "\n",
              "   Flipper_Length  Body_Mass  Sex  \n",
              "0           181.0     3750.0  0.0  \n",
              "1           186.0     3800.0  1.0  \n",
              "2           195.0     3250.0  1.0  \n",
              "3             NaN        NaN  NaN  \n",
              "4           193.0     3450.0  1.0  "
            ]
          },
          "execution_count": 28,
          "metadata": {},
          "output_type": "execute_result"
        }
      ],
      "source": [
        "penguin.head()"
      ]
    },
    {
      "cell_type": "markdown",
      "id": "987de0ca",
      "metadata": {
        "id": "987de0ca"
      },
      "source": [
        "### Basic imputation techniques"
      ]
    },
    {
      "cell_type": "markdown",
      "id": "b48ebfae",
      "metadata": {
        "id": "b48ebfae"
      },
      "source": [
        "#### Mean imputation"
      ]
    },
    {
      "cell_type": "code",
      "execution_count": null,
      "id": "507f5589",
      "metadata": {
        "id": "507f5589"
      },
      "outputs": [],
      "source": [
        "from sklearn.impute import SimpleImputer\n",
        "penguin_mean = penguin.copy(deep=True) # creating a copy for further evaluation\n",
        "mean_imputer = SimpleImputer(strategy='mean')\n",
        "penguin_mean.iloc[:, :] = mean_imputer.fit_transform(penguin_mean)"
      ]
    },
    {
      "cell_type": "markdown",
      "id": "f69e9b4e",
      "metadata": {
        "id": "f69e9b4e"
      },
      "source": [
        "#### Median imputation"
      ]
    },
    {
      "cell_type": "code",
      "execution_count": null,
      "id": "ff6774a7",
      "metadata": {
        "id": "ff6774a7"
      },
      "outputs": [],
      "source": [
        "penguin_median = penguin.copy(deep=True) # creating a copy for further evaluation\n",
        "median_imputer = SimpleImputer(strategy='median')\n",
        "penguin_median.iloc[:, :] = median_imputer.fit_transform(penguin_median)"
      ]
    },
    {
      "cell_type": "markdown",
      "id": "65c4085b",
      "metadata": {
        "id": "65c4085b"
      },
      "source": [
        "#### Mode imputation"
      ]
    },
    {
      "cell_type": "code",
      "execution_count": null,
      "id": "32a48502",
      "metadata": {
        "id": "32a48502"
      },
      "outputs": [],
      "source": [
        "penguin_mode = penguin.copy(deep=True) # creating a copy for further evaluation\n",
        "mode_imputer = SimpleImputer(strategy='most_frequent')\n",
        "penguin_mode.iloc[:, :] = mode_imputer.fit_transform(penguin_mode)"
      ]
    },
    {
      "cell_type": "markdown",
      "id": "58d4274e",
      "metadata": {
        "id": "58d4274e"
      },
      "source": [
        "#### Constant imputation"
      ]
    },
    {
      "cell_type": "code",
      "execution_count": null,
      "id": "f1e55570",
      "metadata": {
        "id": "f1e55570"
      },
      "outputs": [],
      "source": [
        "penguin_constant = penguin.copy(deep=True) # creating a copy for further evaluation\n",
        "constant_imputer = SimpleImputer(strategy='constant', fill_value = 0)\n",
        "penguin_constant.iloc[:, :] = constant_imputer.fit_transform(penguin_constant)"
      ]
    },
    {
      "cell_type": "markdown",
      "id": "875cc8ed",
      "metadata": {
        "id": "875cc8ed"
      },
      "source": [
        "### Advance Imputation techniques"
      ]
    },
    {
      "cell_type": "code",
      "execution_count": null,
      "id": "c81677e6",
      "metadata": {
        "id": "c81677e6",
        "outputId": "111a0f6f-da2b-4d12-cbff-72485a2079ab"
      },
      "outputs": [
        {
          "name": "stdout",
          "output_type": "stream",
          "text": [
            "Imputing row 1/344 with 2 missing, elapsed time: 0.062\n",
            "Imputing row 101/344 with 0 missing, elapsed time: 0.062\n",
            "Imputing row 201/344 with 0 missing, elapsed time: 0.062\n",
            "Imputing row 301/344 with 0 missing, elapsed time: 0.062\n"
          ]
        }
      ],
      "source": [
        "from fancyimpute import KNN\n",
        "knn_imputer = KNN()\n",
        "penguin_knn = penguin.copy(deep=True)\n",
        "penguin_knn.iloc[:, :] = knn_imputer.fit_transform(penguin_knn)"
      ]
    },
    {
      "cell_type": "code",
      "execution_count": null,
      "id": "10197aef",
      "metadata": {
        "id": "10197aef",
        "outputId": "2ba55b6b-7dd6-469e-f8c0-de6d16c0453a"
      },
      "outputs": [
        {
          "data": {
            "text/html": [
              "<div>\n",
              "<style scoped>\n",
              "    .dataframe tbody tr th:only-of-type {\n",
              "        vertical-align: middle;\n",
              "    }\n",
              "\n",
              "    .dataframe tbody tr th {\n",
              "        vertical-align: top;\n",
              "    }\n",
              "\n",
              "    .dataframe thead th {\n",
              "        text-align: right;\n",
              "    }\n",
              "</style>\n",
              "<table border=\"1\" class=\"dataframe\">\n",
              "  <thead>\n",
              "    <tr style=\"text-align: right;\">\n",
              "      <th></th>\n",
              "      <th>Species</th>\n",
              "      <th>Island</th>\n",
              "      <th>Clutch_Completion</th>\n",
              "      <th>Culmen_Length</th>\n",
              "      <th>Culmen_Depth</th>\n",
              "      <th>Flipper_Length</th>\n",
              "      <th>Body_Mass</th>\n",
              "      <th>Sex</th>\n",
              "    </tr>\n",
              "  </thead>\n",
              "  <tbody>\n",
              "    <tr>\n",
              "      <th>0</th>\n",
              "      <td>0.0</td>\n",
              "      <td>2.0</td>\n",
              "      <td>1.0</td>\n",
              "      <td>40.170951</td>\n",
              "      <td>18.150009</td>\n",
              "      <td>181.0</td>\n",
              "      <td>3750.0</td>\n",
              "      <td>0.0</td>\n",
              "    </tr>\n",
              "    <tr>\n",
              "      <th>1</th>\n",
              "      <td>0.0</td>\n",
              "      <td>2.0</td>\n",
              "      <td>1.0</td>\n",
              "      <td>39.500000</td>\n",
              "      <td>17.400000</td>\n",
              "      <td>186.0</td>\n",
              "      <td>3800.0</td>\n",
              "      <td>1.0</td>\n",
              "    </tr>\n",
              "    <tr>\n",
              "      <th>2</th>\n",
              "      <td>0.0</td>\n",
              "      <td>2.0</td>\n",
              "      <td>1.0</td>\n",
              "      <td>40.300000</td>\n",
              "      <td>18.000000</td>\n",
              "      <td>195.0</td>\n",
              "      <td>3250.0</td>\n",
              "      <td>1.0</td>\n",
              "    </tr>\n",
              "    <tr>\n",
              "      <th>3</th>\n",
              "      <td>0.0</td>\n",
              "      <td>2.0</td>\n",
              "      <td>1.0</td>\n",
              "      <td>38.860000</td>\n",
              "      <td>17.560000</td>\n",
              "      <td>191.8</td>\n",
              "      <td>3880.0</td>\n",
              "      <td>0.4</td>\n",
              "    </tr>\n",
              "    <tr>\n",
              "      <th>4</th>\n",
              "      <td>0.0</td>\n",
              "      <td>2.0</td>\n",
              "      <td>1.0</td>\n",
              "      <td>36.700000</td>\n",
              "      <td>19.300000</td>\n",
              "      <td>193.0</td>\n",
              "      <td>3450.0</td>\n",
              "      <td>1.0</td>\n",
              "    </tr>\n",
              "  </tbody>\n",
              "</table>\n",
              "</div>"
            ],
            "text/plain": [
              "   Species  Island  Clutch_Completion  Culmen_Length  Culmen_Depth  \\\n",
              "0      0.0     2.0                1.0      40.170951     18.150009   \n",
              "1      0.0     2.0                1.0      39.500000     17.400000   \n",
              "2      0.0     2.0                1.0      40.300000     18.000000   \n",
              "3      0.0     2.0                1.0      38.860000     17.560000   \n",
              "4      0.0     2.0                1.0      36.700000     19.300000   \n",
              "\n",
              "   Flipper_Length  Body_Mass  Sex  \n",
              "0           181.0     3750.0  0.0  \n",
              "1           186.0     3800.0  1.0  \n",
              "2           195.0     3250.0  1.0  \n",
              "3           191.8     3880.0  0.4  \n",
              "4           193.0     3450.0  1.0  "
            ]
          },
          "execution_count": 34,
          "metadata": {},
          "output_type": "execute_result"
        }
      ],
      "source": [
        "penguin_knn.head()"
      ]
    },
    {
      "cell_type": "markdown",
      "id": "6db7be2f",
      "metadata": {
        "id": "6db7be2f"
      },
      "source": [
        "- Provides numerical values, even for categorical data.\n",
        "- For binary variable, we can treat anything < 0.5 as 0 and 0.5 >= as 1."
      ]
    },
    {
      "cell_type": "markdown",
      "id": "b535336b",
      "metadata": {
        "id": "b535336b"
      },
      "source": [
        "**2- Multiple Imputation by chained equation**\n",
        "\n",
        "- Perform multiple regressions over random sample of the data\n",
        "\n",
        "- Take average of the multiple regression values\n",
        "\n",
        "- Impute the missing feature value for the data point"
      ]
    },
    {
      "cell_type": "code",
      "execution_count": null,
      "id": "c8b9cfdb",
      "metadata": {
        "id": "c8b9cfdb"
      },
      "outputs": [],
      "source": [
        "from fancyimpute import IterativeImputer\n",
        "MICE_imputer = IterativeImputer()\n",
        "penguin_MICE = penguin.copy(deep=True)\n",
        "penguin_MICE.iloc[:, :] = MICE_imputer.fit_transform(penguin_MICE)"
      ]
    },
    {
      "cell_type": "code",
      "execution_count": null,
      "id": "7d4580b1",
      "metadata": {
        "id": "7d4580b1",
        "outputId": "aef79767-a31c-4022-eef4-dfb6d5c40ee6"
      },
      "outputs": [
        {
          "data": {
            "text/html": [
              "<div>\n",
              "<style scoped>\n",
              "    .dataframe tbody tr th:only-of-type {\n",
              "        vertical-align: middle;\n",
              "    }\n",
              "\n",
              "    .dataframe tbody tr th {\n",
              "        vertical-align: top;\n",
              "    }\n",
              "\n",
              "    .dataframe thead th {\n",
              "        text-align: right;\n",
              "    }\n",
              "</style>\n",
              "<table border=\"1\" class=\"dataframe\">\n",
              "  <thead>\n",
              "    <tr style=\"text-align: right;\">\n",
              "      <th></th>\n",
              "      <th>Species</th>\n",
              "      <th>Island</th>\n",
              "      <th>Clutch_Completion</th>\n",
              "      <th>Culmen_Length</th>\n",
              "      <th>Culmen_Depth</th>\n",
              "      <th>Flipper_Length</th>\n",
              "      <th>Body_Mass</th>\n",
              "      <th>Sex</th>\n",
              "    </tr>\n",
              "  </thead>\n",
              "  <tbody>\n",
              "    <tr>\n",
              "      <th>0</th>\n",
              "      <td>0.0</td>\n",
              "      <td>2.0</td>\n",
              "      <td>1.0</td>\n",
              "      <td>43.379128</td>\n",
              "      <td>19.941864</td>\n",
              "      <td>181.000000</td>\n",
              "      <td>3750.000000</td>\n",
              "      <td>0.000000</td>\n",
              "    </tr>\n",
              "    <tr>\n",
              "      <th>1</th>\n",
              "      <td>0.0</td>\n",
              "      <td>2.0</td>\n",
              "      <td>1.0</td>\n",
              "      <td>39.500000</td>\n",
              "      <td>17.400000</td>\n",
              "      <td>186.000000</td>\n",
              "      <td>3800.000000</td>\n",
              "      <td>1.000000</td>\n",
              "    </tr>\n",
              "    <tr>\n",
              "      <th>2</th>\n",
              "      <td>0.0</td>\n",
              "      <td>2.0</td>\n",
              "      <td>1.0</td>\n",
              "      <td>40.300000</td>\n",
              "      <td>18.000000</td>\n",
              "      <td>195.000000</td>\n",
              "      <td>3250.000000</td>\n",
              "      <td>1.000000</td>\n",
              "    </tr>\n",
              "    <tr>\n",
              "      <th>3</th>\n",
              "      <td>0.0</td>\n",
              "      <td>2.0</td>\n",
              "      <td>1.0</td>\n",
              "      <td>41.404045</td>\n",
              "      <td>19.158050</td>\n",
              "      <td>188.485662</td>\n",
              "      <td>3507.267984</td>\n",
              "      <td>0.474302</td>\n",
              "    </tr>\n",
              "    <tr>\n",
              "      <th>4</th>\n",
              "      <td>0.0</td>\n",
              "      <td>2.0</td>\n",
              "      <td>1.0</td>\n",
              "      <td>36.700000</td>\n",
              "      <td>19.300000</td>\n",
              "      <td>193.000000</td>\n",
              "      <td>3450.000000</td>\n",
              "      <td>1.000000</td>\n",
              "    </tr>\n",
              "  </tbody>\n",
              "</table>\n",
              "</div>"
            ],
            "text/plain": [
              "   Species  Island  Clutch_Completion  Culmen_Length  Culmen_Depth  \\\n",
              "0      0.0     2.0                1.0      43.379128     19.941864   \n",
              "1      0.0     2.0                1.0      39.500000     17.400000   \n",
              "2      0.0     2.0                1.0      40.300000     18.000000   \n",
              "3      0.0     2.0                1.0      41.404045     19.158050   \n",
              "4      0.0     2.0                1.0      36.700000     19.300000   \n",
              "\n",
              "   Flipper_Length    Body_Mass       Sex  \n",
              "0      181.000000  3750.000000  0.000000  \n",
              "1      186.000000  3800.000000  1.000000  \n",
              "2      195.000000  3250.000000  1.000000  \n",
              "3      188.485662  3507.267984  0.474302  \n",
              "4      193.000000  3450.000000  1.000000  "
            ]
          },
          "execution_count": 37,
          "metadata": {},
          "output_type": "execute_result"
        }
      ],
      "source": [
        "penguin_MICE.head()"
      ]
    },
    {
      "cell_type": "markdown",
      "id": "11cad963",
      "metadata": {
        "id": "11cad963"
      },
      "source": [
        "- Provides numerical values, even for categorical data.\n",
        "- For binary variable, we can treat anything < 0.5 as 0 and 0.5 >= as 1."
      ]
    },
    {
      "cell_type": "markdown",
      "id": "77239b90",
      "metadata": {
        "id": "77239b90"
      },
      "source": [
        "### Visualzing Imputation "
      ]
    },
    {
      "cell_type": "code",
      "execution_count": null,
      "id": "c7d23318",
      "metadata": {
        "id": "c7d23318",
        "outputId": "0730213e-c68b-483d-ecc6-962cf4281649"
      },
      "outputs": [
        {
          "data": {
            "image/png": "[encoded data removed]",
            "text/plain": [
              "<Figure size 720x720 with 6 Axes>"
            ]
          },
          "metadata": {
            "needs_background": "light"
          },
          "output_type": "display_data"
        }
      ],
      "source": [
        "fig, axes = plt.subplots(nrows=2, ncols=3, figsize=(10, 10))\n",
        "nullity = penguin['Culmen_Length'].isnull() + penguin['Culmen_Depth'].isnull()\n",
        "imputations = {'Mean Imputation': penguin_mean,\n",
        "               'Median Imputation': penguin_median,\n",
        "               'Most Frequent Imputation': penguin_mode,\n",
        "               'Constant Impu tation': penguin_constant,\n",
        "               'KNN Imputation': penguin_knn,\n",
        "              'MICE Imputation': penguin_MICE}\n",
        "\n",
        "for ax, df_key in zip(axes.flatten(), imputations):\n",
        "    imputations[df_key].plot(x='Culmen_Length', y='Culmen_Depth', kind='scatter',\n",
        "                             alpha=0.5, c=nullity, cmap='rainbow', ax=ax,\n",
        "                             colorbar=False, title=df_key)"
      ]
    },
    {
      "cell_type": "markdown",
      "id": "bdf4d2d9",
      "metadata": {
        "id": "bdf4d2d9"
      },
      "source": [
        "- Visualization clearly suggest KNN imputation as a better approach to deal with missing values. However, this example is only applicable here as there is clearly a relationship in missingness between culmen length and culmen depth."
      ]
    },
    {
      "cell_type": "markdown",
      "id": "258d1f63",
      "metadata": {
        "id": "258d1f63"
      },
      "source": [
        "- For different variables a different approach may be better for missing value.\n",
        "- For example, we can create box plot between missing value vs non missing values for numerical variable\n",
        "- Bar plot for categorical variable."
      ]
    },
    {
      "cell_type": "markdown",
      "id": "3e098f4e",
      "metadata": {
        "id": "3e098f4e"
      },
      "source": [
        "- Overall justification is must when we are doing anything."
      ]
    },
    {
      "cell_type": "code",
      "execution_count": null,
      "id": "a9f1025f",
      "metadata": {
        "id": "a9f1025f"
      },
      "outputs": [],
      "source": []
    }
  ],
  "metadata": {
    "kernelspec": {
      "display_name": "Python 3 (ipykernel)",
      "language": "python",
      "name": "python3"
    },
    "language_info": {
      "codemirror_mode": {
        "name": "ipython",
        "version": 3
      },
      "file_extension": ".py",
      "mimetype": "text/x-python",
      "name": "python",
      "nbconvert_exporter": "python",
      "pygments_lexer": "ipython3",
      "version": "3.9.7"
    },
    "colab": {
      "provenance": []
    }
  },
  "nbformat": 4,
  "nbformat_minor": 5
}