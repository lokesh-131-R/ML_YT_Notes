{
  "cells": [
    {
      "cell_type": "markdown",
      "id": "2873a6b9",
      "metadata": {
        "id": "2873a6b9"
      },
      "source": [
        "# Discretization"
      ]
    },
    {
      "cell_type": "markdown",
      "id": "8abed37f",
      "metadata": {
        "id": "8abed37f"
      },
      "source": [
        "- Data discretization is the process of converting continuous data into discrete buckets by grouping it. Discretization is also known for easy maintainability of the data.\n",
        "- If data is highly skewed and there is too much noise in the data, discretization may be a good approach to reduce the noise.\n",
        "- Discretization creates bins, hence reduce the impact of fluctuation (noise) in the data. This process is also known as **smoothing**\n",
        "- Also known as **binning**.\n",
        "- When we do descretization, it should make sense.\n",
        "- Sometimes it is easy to understand continuous data when divided into categories. For example: BMI can be categorized into following groups:\n",
        "    - **< 19.5 (Underweight)**\n",
        "    - **Between 19.5 and 25 (normal weight)**\n",
        "    - **> 25 and < 30 (overweight)**\n",
        "    - **>= 30 (Obese)**\n",
        "- Here, discretization helps to understand data easier **if it solves the problem statement**.\n",
        "- Continuous variable may have complex non-linear relationship"
      ]
    },
    {
      "cell_type": "markdown",
      "id": "7848d8f7",
      "metadata": {
        "id": "7848d8f7"
      },
      "source": [
        "## Approaches to discretization\n",
        "- Equal width (creating equal number of bins, having same width)\n",
        "- Equal-frequency (N number of bins having same amount of observations)\n",
        "- Pre-defined bins (BMI example)\n",
        "- K-means (creating K clusters) **Will be covered during ML**\n",
        "- Decision tree (Decision tree to identify optimal number of bins) **Will be covered during ML**\n"
      ]
    },
    {
      "cell_type": "code",
      "execution_count": null,
      "id": "98f55acc",
      "metadata": {
        "id": "98f55acc"
      },
      "outputs": [],
      "source": [
        "import numpy as np\n",
        "import pandas as pd"
      ]
    },
    {
      "cell_type": "code",
      "execution_count": null,
      "id": "0ad3dcce",
      "metadata": {
        "id": "0ad3dcce"
      },
      "outputs": [],
      "source": [
        "Age = [1,5,9,4,7,11,14,17,13,18, 19,31,33,36,42,44,46,70,74,78,77]"
      ]
    },
    {
      "cell_type": "code",
      "execution_count": null,
      "id": "244ecc47",
      "metadata": {
        "id": "244ecc47",
        "outputId": "73d4e223-2ce7-44b3-b5c0-7f8c645e8619"
      },
      "outputs": [
        {
          "data": {
            "text/html": [
              "<div>\n",
              "<style scoped>\n",
              "    .dataframe tbody tr th:only-of-type {\n",
              "        vertical-align: middle;\n",
              "    }\n",
              "\n",
              "    .dataframe tbody tr th {\n",
              "        vertical-align: top;\n",
              "    }\n",
              "\n",
              "    .dataframe thead th {\n",
              "        text-align: right;\n",
              "    }\n",
              "</style>\n",
              "<table border=\"1\" class=\"dataframe\">\n",
              "  <thead>\n",
              "    <tr style=\"text-align: right;\">\n",
              "      <th></th>\n",
              "      <th>0</th>\n",
              "    </tr>\n",
              "  </thead>\n",
              "  <tbody>\n",
              "    <tr>\n",
              "      <th>0</th>\n",
              "      <td>1</td>\n",
              "    </tr>\n",
              "    <tr>\n",
              "      <th>1</th>\n",
              "      <td>5</td>\n",
              "    </tr>\n",
              "    <tr>\n",
              "      <th>2</th>\n",
              "      <td>9</td>\n",
              "    </tr>\n",
              "    <tr>\n",
              "      <th>3</th>\n",
              "      <td>4</td>\n",
              "    </tr>\n",
              "    <tr>\n",
              "      <th>4</th>\n",
              "      <td>7</td>\n",
              "    </tr>\n",
              "    <tr>\n",
              "      <th>5</th>\n",
              "      <td>11</td>\n",
              "    </tr>\n",
              "    <tr>\n",
              "      <th>6</th>\n",
              "      <td>14</td>\n",
              "    </tr>\n",
              "    <tr>\n",
              "      <th>7</th>\n",
              "      <td>17</td>\n",
              "    </tr>\n",
              "    <tr>\n",
              "      <th>8</th>\n",
              "      <td>13</td>\n",
              "    </tr>\n",
              "    <tr>\n",
              "      <th>9</th>\n",
              "      <td>18</td>\n",
              "    </tr>\n",
              "    <tr>\n",
              "      <th>10</th>\n",
              "      <td>19</td>\n",
              "    </tr>\n",
              "    <tr>\n",
              "      <th>11</th>\n",
              "      <td>31</td>\n",
              "    </tr>\n",
              "    <tr>\n",
              "      <th>12</th>\n",
              "      <td>33</td>\n",
              "    </tr>\n",
              "    <tr>\n",
              "      <th>13</th>\n",
              "      <td>36</td>\n",
              "    </tr>\n",
              "    <tr>\n",
              "      <th>14</th>\n",
              "      <td>42</td>\n",
              "    </tr>\n",
              "    <tr>\n",
              "      <th>15</th>\n",
              "      <td>44</td>\n",
              "    </tr>\n",
              "    <tr>\n",
              "      <th>16</th>\n",
              "      <td>46</td>\n",
              "    </tr>\n",
              "    <tr>\n",
              "      <th>17</th>\n",
              "      <td>70</td>\n",
              "    </tr>\n",
              "    <tr>\n",
              "      <th>18</th>\n",
              "      <td>74</td>\n",
              "    </tr>\n",
              "    <tr>\n",
              "      <th>19</th>\n",
              "      <td>78</td>\n",
              "    </tr>\n",
              "    <tr>\n",
              "      <th>20</th>\n",
              "      <td>77</td>\n",
              "    </tr>\n",
              "  </tbody>\n",
              "</table>\n",
              "</div>"
            ],
            "text/plain": [
              "     0\n",
              "0    1\n",
              "1    5\n",
              "2    9\n",
              "3    4\n",
              "4    7\n",
              "5   11\n",
              "6   14\n",
              "7   17\n",
              "8   13\n",
              "9   18\n",
              "10  19\n",
              "11  31\n",
              "12  33\n",
              "13  36\n",
              "14  42\n",
              "15  44\n",
              "16  46\n",
              "17  70\n",
              "18  74\n",
              "19  78\n",
              "20  77"
            ]
          },
          "execution_count": 5,
          "metadata": {},
          "output_type": "execute_result"
        }
      ],
      "source": [
        "Age = pd.DataFrame(Age)\n",
        "Age"
      ]
    },
    {
      "cell_type": "code",
      "execution_count": null,
      "id": "0de595a3",
      "metadata": {
        "id": "0de595a3",
        "outputId": "3c882bec-a9bf-47cd-8986-04639617fe36"
      },
      "outputs": [
        {
          "data": {
            "text/plain": [
              "0          Child\n",
              "1          Child\n",
              "2          Child\n",
              "3          Child\n",
              "4          Child\n",
              "5     Adolescent\n",
              "6     Adolescent\n",
              "7     Adolescent\n",
              "8     Adolescent\n",
              "9     Adolescent\n",
              "10         Adult\n",
              "11         Adult\n",
              "12         Adult\n",
              "13         Adult\n",
              "14         Adult\n",
              "15         Adult\n",
              "16         Adult\n",
              "17       Elderly\n",
              "18       Elderly\n",
              "19       Elderly\n",
              "20       Elderly\n",
              "Name: 0, dtype: category\n",
              "Categories (4, object): ['Child' < 'Adolescent' < 'Adult' < 'Elderly']"
            ]
          },
          "execution_count": 9,
          "metadata": {},
          "output_type": "execute_result"
        }
      ],
      "source": [
        "pd.cut(Age[0],bins=[0,10,18,60,99],labels=['Child','Adolescent','Adult','Elderly'])"
      ]
    },
    {
      "cell_type": "code",
      "execution_count": null,
      "id": "266d6661",
      "metadata": {
        "id": "266d6661"
      },
      "outputs": [],
      "source": []
    }
  ],
  "metadata": {
    "kernelspec": {
      "display_name": "Python 3 (ipykernel)",
      "language": "python",
      "name": "python3"
    },
    "language_info": {
      "codemirror_mode": {
        "name": "ipython",
        "version": 3
      },
      "file_extension": ".py",
      "mimetype": "text/x-python",
      "name": "python",
      "nbconvert_exporter": "python",
      "pygments_lexer": "ipython3",
      "version": "3.9.7"
    },
    "colab": {
      "provenance": []
    }
  },
  "nbformat": 4,
  "nbformat_minor": 5
}