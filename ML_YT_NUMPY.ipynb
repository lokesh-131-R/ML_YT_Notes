{
 "cells": [
  {
   "cell_type": "code",
   "execution_count": 1,
   "id": "aa3d7852",
   "metadata": {},
   "outputs": [],
   "source": [
    "import numpy as np # importing the numpy module as np"
   ]
  },
  {
   "cell_type": "code",
   "execution_count": 2,
   "id": "0d345e5d",
   "metadata": {},
   "outputs": [
    {
     "name": "stdout",
     "output_type": "stream",
     "text": [
      "[1 2 3 4]\n"
     ]
    }
   ],
   "source": [
    "arr_1d=np.array([1,2,3,4]) # creating the 1D array using numpy\n",
    "print(arr_1d)# printing the array"
   ]
  },
  {
   "cell_type": "code",
   "execution_count": 3,
   "id": "4f2345dd",
   "metadata": {},
   "outputs": [
    {
     "name": "stdout",
     "output_type": "stream",
     "text": [
      "[[1 2 3 4]\n",
      " [5 6 7 8]]\n"
     ]
    }
   ],
   "source": [
    "arr_2d=np.array([[1,2,3,4],[5,6,7,8]]) # creating the 2D array\n",
    "print(arr_2d)"
   ]
  },
  {
   "cell_type": "code",
   "execution_count": 4,
   "id": "67042997",
   "metadata": {},
   "outputs": [
    {
     "data": {
      "text/plain": [
       "2"
      ]
     },
     "execution_count": 4,
     "metadata": {},
     "output_type": "execute_result"
    }
   ],
   "source": [
    "arr_2d.ndim # to check the dimention of the array so its an 2D array"
   ]
  },
  {
   "cell_type": "code",
   "execution_count": 5,
   "id": "1232e5be",
   "metadata": {},
   "outputs": [
    {
     "data": {
      "text/plain": [
       "8"
      ]
     },
     "execution_count": 5,
     "metadata": {},
     "output_type": "execute_result"
    }
   ],
   "source": [
    "arr_2d.size# to check the size of the array here the outcome is num of element"
   ]
  },
  {
   "cell_type": "code",
   "execution_count": 6,
   "id": "8600a3f0",
   "metadata": {},
   "outputs": [
    {
     "data": {
      "text/plain": [
       "(2, 4)"
      ]
     },
     "execution_count": 6,
     "metadata": {},
     "output_type": "execute_result"
    }
   ],
   "source": [
    "arr_2d.shape# to check the shape of the array here the out come is(row,colum)"
   ]
  },
  {
   "cell_type": "code",
   "execution_count": 7,
   "id": "8a6bcfd8",
   "metadata": {
    "scrolled": true
   },
   "outputs": [
    {
     "data": {
      "text/plain": [
       "numpy.ndarray"
      ]
     },
     "execution_count": 7,
     "metadata": {},
     "output_type": "execute_result"
    }
   ],
   "source": [
    "type(arr_2d) # to check the type of the variable"
   ]
  },
  {
   "cell_type": "code",
   "execution_count": 8,
   "id": "04d1a603",
   "metadata": {},
   "outputs": [
    {
     "data": {
      "text/plain": [
       "dtype('int32')"
      ]
     },
     "execution_count": 8,
     "metadata": {},
     "output_type": "execute_result"
    }
   ],
   "source": [
    "arr_2d.dtype # to check the datatype of the elements in the list it show int that impiles the element are type int"
   ]
  },
  {
   "cell_type": "code",
   "execution_count": 9,
   "id": "ada02c1d",
   "metadata": {},
   "outputs": [
    {
     "name": "stdout",
     "output_type": "stream",
     "text": [
      "[[1 1 1]\n",
      " [1 1 1]\n",
      " [1 1 1]]\n"
     ]
    }
   ],
   "source": [
    "ones_mt=np.ones((3,3),dtype=int) # creating the matrix which contains only 1 as there values and dtype changes the data type of the vales\n",
    "print(ones_mt)"
   ]
  },
  {
   "cell_type": "code",
   "execution_count": 10,
   "id": "b2866b54",
   "metadata": {},
   "outputs": [
    {
     "name": "stdout",
     "output_type": "stream",
     "text": [
      "[[0 0 0]\n",
      " [0 0 0]\n",
      " [0 0 0]]\n"
     ]
    }
   ],
   "source": [
    "zeros_mt=np.zeros((3,3),dtype=int) # cerating the matrix of values = zeros\n",
    "print(zeros_mt)"
   ]
  },
  {
   "cell_type": "code",
   "execution_count": 11,
   "id": "217aa50c",
   "metadata": {},
   "outputs": [
    {
     "name": "stdout",
     "output_type": "stream",
     "text": [
      "[[      0       1       0]\n",
      " [5570652     820       0]\n",
      " [    768       0      49]]\n"
     ]
    }
   ],
   "source": [
    "empty_mt=np.empty((3,3),dtype=int) # this creates an matrix of random elements \n",
    "print(empty_mt)"
   ]
  },
  {
   "cell_type": "code",
   "execution_count": 12,
   "id": "9135732f",
   "metadata": {},
   "outputs": [
    {
     "name": "stdout",
     "output_type": "stream",
     "text": [
      "[0 2 4 6 8]\n"
     ]
    }
   ],
   "source": [
    "arr_arange=np.arange(0,10,2) # creates the 1Darray using the given range \n",
    "print(arr_arange)# syntax of the arange fuction is np.arange(start,end,num of gap b/w element)"
   ]
  },
  {
   "cell_type": "code",
   "execution_count": 13,
   "id": "467c9d9a",
   "metadata": {},
   "outputs": [
    {
     "name": "stdout",
     "output_type": "stream",
     "text": [
      "[ 0.          2.22222222  4.44444444  6.66666667  8.88888889 11.11111111\n",
      " 13.33333333 15.55555556 17.77777778 20.        ]\n"
     ]
    }
   ],
   "source": [
    "arr_linspace=np.linspace(0,20,10) # creates the 1D array using the given range \n",
    "print(arr_linspace)# syntax is np.linspace(start,end,number of element)"
   ]
  },
  {
   "cell_type": "code",
   "execution_count": 14,
   "id": "46e374c3",
   "metadata": {},
   "outputs": [
    {
     "name": "stdout",
     "output_type": "stream",
     "text": [
      "[[ 0  2]\n",
      " [ 4  6]\n",
      " [ 8 10]\n",
      " [12 14]\n",
      " [16 18]]\n"
     ]
    }
   ],
   "source": [
    "arr_reshape=np.arange(0,20,2).reshape(5,2) # here reshape function will change the shape of the arr to the given dimention\n",
    "print(arr_reshape) # syntax is arr_name.reshape((dimention))"
   ]
  },
  {
   "cell_type": "code",
   "execution_count": 15,
   "id": "0f57c007",
   "metadata": {},
   "outputs": [
    {
     "name": "stdout",
     "output_type": "stream",
     "text": [
      "[[ 0  4  8 12 16]\n",
      " [ 2  6 10 14 18]]\n"
     ]
    }
   ],
   "source": [
    "arr_transpose=arr_reshape.transpose() # this fuction will creat the transpose of the given matrix\n",
    "print(arr_transpose)# syntax is arr_name.transpose()\n",
    "arr_T=arr_transpose.T#"
   ]
  },
  {
   "cell_type": "code",
   "execution_count": 16,
   "id": "0b9986e5",
   "metadata": {},
   "outputs": [
    {
     "name": "stdout",
     "output_type": "stream",
     "text": [
      "[ 0  4  8 12 16  2  6 10 14 18]\n",
      "[ 0  2  4  6  8 10 12 14 16 18]\n"
     ]
    }
   ],
   "source": [
    "arr_ravel=arr_transpose.ravel() # this ravel is used to create the 1D array from any ndim array\n",
    "print(arr_ravel) #syntax is arr_name.ravel()\n",
    "arr_flatten=arr_reshape.flatten() # flatten also gives the same results as ravel\n",
    "print(arr_flatten)# syntax arr_name.flatten()"
   ]
  },
  {
   "cell_type": "code",
   "execution_count": 17,
   "id": "ea203df1",
   "metadata": {},
   "outputs": [
    {
     "name": "stdout",
     "output_type": "stream",
     "text": [
      "[[ 8 10 12]\n",
      " [ 8 10 12]\n",
      " [ 8 10 12]] \n",
      " [[ 8 10 12]\n",
      " [ 8 10 12]\n",
      " [ 8 10 12]]\n",
      "[[-6 -6 -6]\n",
      " [ 0  0  0]\n",
      " [ 6  6  6]] \n",
      " [[-6 -6 -6]\n",
      " [ 0  0  0]\n",
      " [ 6  6  6]]\n",
      "[[ 7 16 27]\n",
      " [16 25 36]\n",
      " [ 7 16 27]] \n",
      " [[ 7 16 27]\n",
      " [16 25 36]\n",
      " [ 7 16 27]]\n",
      "[[0.14285714 0.25       0.33333333]\n",
      " [1.         1.         1.        ]\n",
      " [7.         4.         3.        ]] \n",
      " [[0.14285714 0.25       0.33333333]\n",
      " [1.         1.         1.        ]\n",
      " [7.         4.         3.        ]]\n",
      "9\n",
      "[3 6 9]\n",
      "[1 4 7]\n",
      "8\n",
      "0\n",
      "5.0\n",
      "[[0.         0.69314718 1.09861229]\n",
      " [1.38629436 1.60943791 1.79175947]\n",
      " [1.94591015 2.07944154 2.19722458]]\n",
      "[[1.         1.41421356 1.73205081]\n",
      " [2.         2.23606798 2.44948974]\n",
      " [2.64575131 2.82842712 3.        ]]\n",
      "[[2.71828183e+00 7.38905610e+00 2.00855369e+01]\n",
      " [5.45981500e+01 1.48413159e+02 4.03428793e+02]\n",
      " [1.09663316e+03 2.98095799e+03 8.10308393e+03]]\n"
     ]
    }
   ],
   "source": [
    "arr1=np.array([[1,2,3],[4,5,6],[7,8,9]])\n",
    "arr2=np.array([[7,8,9],[4,5,6],[1,2,3]])\n",
    "print(arr1+arr2,'\\n',np.add(arr1,arr2)) # adding of the 2 array\n",
    "print(arr1-arr2,'\\n',np.subtract(arr1,arr2))# subtracting of 2 array\n",
    "print(arr1*arr2,'\\n',np.multiply(arr1,arr2))# multipling the 2 array\n",
    "print(arr1/arr2,'\\n',np.divide(arr1,arr2))# divide the 2 array\n",
    "print(arr1.max()) # to find the max of the array\n",
    "print(arr1.max(axis=1)) # to find max of rows \n",
    "print(arr1.min(axis=1))#to find min of row\n",
    "print(arr1.argmax()) # to find the index of max value\n",
    "print(arr1.argmin())# to find the index of minimum\n",
    "print(np.mean(arr1))# to find the mean of the array\n",
    "print(np.log(arr1))# to find the log of the array\n",
    "print(np.sqrt(arr1))# to find the squart root of the array\n",
    "print(np.exp(arr1))# to find the exp of the array\n"
   ]
  },
  {
   "cell_type": "code",
   "execution_count": 18,
   "id": "cfb098e8",
   "metadata": {},
   "outputs": [
    {
     "name": "stdout",
     "output_type": "stream",
     "text": [
      "[[0.99853635 0.80213602 0.86331637 0.89974515 0.84434881]\n",
      " [0.36770879 0.72142426 0.95926212 0.46532674 0.90556959]\n",
      " [0.80496566 0.7342925  0.99930082 0.42839618 0.3750381 ]\n",
      " [0.65733813 0.60419197 0.00335458 0.17234629 0.26088439]\n",
      " [0.69744548 0.81374261 0.26131127 0.77650145 0.59277428]]\n",
      "0.9985363490434229\n",
      "[[0.99853635 0.80213602 0.86331637]\n",
      " [0.36770879 0.72142426 0.95926212]\n",
      " [0.80496566 0.7342925  0.99930082]]\n"
     ]
    }
   ],
   "source": [
    "arr3=np.random.rand(5,5) # creating the matrix of random elements\n",
    "print(arr3)\n",
    "print(arr3[0,0]) # calling the 0th row and 0th column element\n",
    "print(arr3[0:3,0:3]) # sciling of the array, here row is 0 to 2nd and column is 0th to 2nd"
   ]
  },
  {
   "cell_type": "code",
   "execution_count": 30,
   "id": "480b1763",
   "metadata": {},
   "outputs": [
    {
     "name": "stdout",
     "output_type": "stream",
     "text": [
      "[[1 2 3]\n",
      " [4 5 6]\n",
      " [7 8 9]\n",
      " [7 8 9]\n",
      " [4 5 6]\n",
      " [1 2 3]]\n",
      "[[1 2 3]\n",
      " [4 5 6]\n",
      " [7 8 9]\n",
      " [7 8 9]\n",
      " [4 5 6]\n",
      " [1 2 3]] [[1 2 3 7 8 9]\n",
      " [4 5 6 4 5 6]\n",
      " [7 8 9 1 2 3]]\n",
      "[array([[1, 2, 3]]), array([[4, 5, 6]]), array([[7, 8, 9]])]\n"
     ]
    }
   ],
   "source": [
    "arr_concat=np.concatenate((arr1,arr2))# joing the 2 array\n",
    "print(arr_concat)\n",
    "arr_concat1=np.vstack((arr1,arr2)) # vertical concatinate\n",
    "arr_concat2=np.hstack((arr1,arr2))# horisantal concatenate\n",
    "print(arr_concat1,arr_concat2)\n",
    "# spliting\n",
    "print(np.split(arr1,[1,2])) # spliting the exsiting array it gives the list of array "
   ]
  },
  {
   "cell_type": "code",
   "execution_count": 31,
   "id": "d802ba73",
   "metadata": {
    "scrolled": true
   },
   "outputs": [
    {
     "name": "stdout",
     "output_type": "stream",
     "text": [
      "[[ 0.84147098  0.90929743  0.14112001]\n",
      " [-0.7568025  -0.95892427 -0.2794155 ]\n",
      " [ 0.6569866   0.98935825  0.41211849]]\n"
     ]
    }
   ],
   "source": [
    "# trignometric function on the array\n",
    "print(np.sin(arr1)) # using the sin function similarly we can use other fubctions also like tan cos etc"
   ]
  },
  {
   "cell_type": "code",
   "execution_count": 41,
   "id": "05dbdcf2",
   "metadata": {},
   "outputs": [
    {
     "name": "stdout",
     "output_type": "stream",
     "text": [
      "[0.69209158 0.21365075 0.69612563 0.00432253 0.79681951 0.83382546\n",
      " 0.86146228 0.81290274 0.4045585 ]\n",
      "0.6920915804756116\n",
      "[0.86146228 0.21365075 0.83382546 0.69612563 0.00432253 0.79681951\n",
      " 0.81290274 0.4045585  0.69209158]\n"
     ]
    }
   ],
   "source": [
    "arr4=np.random.random((3,3)).ravel()\n",
    "print(arr4)\n",
    "print(np.random.choice(arr4)) # this function choies romdamly a element in the function\n",
    "print(np.random.permutation(arr4))# this function will rearange the elements in the randam manner "
   ]
  },
  {
   "cell_type": "code",
   "execution_count": 66,
   "id": "e40cbb2e",
   "metadata": {},
   "outputs": [
    {
     "data": {
      "text/plain": [
       "array(1)"
      ]
     },
     "execution_count": 66,
     "metadata": {},
     "output_type": "execute_result"
    }
   ],
   "source": [
    "# string operation in the numpy\n",
    "str1='loko'\n",
    "str2='esh'\n",
    "np.char.add(str1,str2) # adding of the 2 string \n",
    "np.char.lower(str1)# to lower the case of the string\n",
    "np.char.upper(str1) # to upper the case of the string\n",
    "np.char.center(np.char.upper(np.char.add(str1,str2)),60,'*') # to print the srting in the center of the list syntax np.char.center(str,len,figure to be filled)\n",
    "np.char.split(str1)\n",
    "np.char.join([':'],str1)# to join the particular character in between the string\n",
    "np.char.replace(str1,'l','A') # to replace the l letter with A\n",
    "np.char.count(str1,'l') # to give the num of times l has occcured\n",
    "np.char.equal(str1,str2)# to compare the strings are equal or not\n",
    "np.char.find(str1,'o') # find the o in str1 it gives the index of the element"
   ]
  }
 ],
 "metadata": {
  "kernelspec": {
   "display_name": "Python 3 (ipykernel)",
   "language": "python",
   "name": "python3"
  },
  "language_info": {
   "codemirror_mode": {
    "name": "ipython",
    "version": 3
   },
   "file_extension": ".py",
   "mimetype": "text/x-python",
   "name": "python",
   "nbconvert_exporter": "python",
   "pygments_lexer": "ipython3",
   "version": "3.9.13"
  }
 },
 "nbformat": 4,
 "nbformat_minor": 5
}
