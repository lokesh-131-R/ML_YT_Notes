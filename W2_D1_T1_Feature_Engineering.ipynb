{
  "cells": [
    {
      "cell_type": "markdown",
      "id": "f1fafa49",
      "metadata": {
        "id": "f1fafa49"
      },
      "source": [
        "# Feature Engineering"
      ]
    },
    {
      "cell_type": "markdown",
      "id": "396f6271",
      "metadata": {
        "id": "396f6271"
      },
      "source": [
        "- Feature engineering is the act of taking raw data, processing the raw data, selecting, manipulating, transforming raw data,  \n",
        "and extracting features from it that are suitable for tasks like machine learning. \n",
        "- Most machine learning algorithm works on tabular format. Most machine learning algorithm require their input data to be represented a vector or a matirx, and many assumes that data should be distributed normally. "
      ]
    },
    {
      "cell_type": "code",
      "execution_count": null,
      "id": "a3761f18",
      "metadata": {
        "id": "a3761f18"
      },
      "outputs": [],
      "source": [
        "import pandas as pd\n",
        "diabetes = pd.read_csv(\"diabetes.csv\", encoding='unicode_escape')\n",
        "#url = \"https://raw.githubusercontent.com/jbrownlee/Datasets/master/breast-cancer.csv\"\n",
        "#breast_cancer_raw = pd.read_csv(url, header = None) # reading url dataset"
      ]
    },
    {
      "cell_type": "markdown",
      "id": "977d802b",
      "metadata": {
        "id": "977d802b"
      },
      "source": [
        "## Feature engineering techniques for Machine Learning"
      ]
    },
    {
      "cell_type": "markdown",
      "id": "a6d39ac4",
      "metadata": {
        "id": "a6d39ac4"
      },
      "source": [
        "- Imputation (dealing with missing values)\n",
        "- Handling outliers \n",
        "- Transformation\n",
        "- Encoding\n",
        "- Feature scaling\n",
        "- Discretization\n"
      ]
    },
    {
      "cell_type": "code",
      "execution_count": null,
      "id": "c5b0bdbc",
      "metadata": {
        "id": "c5b0bdbc"
      },
      "outputs": [],
      "source": []
    }
  ],
  "metadata": {
    "kernelspec": {
      "display_name": "Python 3 (ipykernel)",
      "language": "python",
      "name": "python3"
    },
    "language_info": {
      "codemirror_mode": {
        "name": "ipython",
        "version": 3
      },
      "file_extension": ".py",
      "mimetype": "text/x-python",
      "name": "python",
      "nbconvert_exporter": "python",
      "pygments_lexer": "ipython3",
      "version": "3.9.7"
    },
    "colab": {
      "provenance": []
    }
  },
  "nbformat": 4,
  "nbformat_minor": 5
}