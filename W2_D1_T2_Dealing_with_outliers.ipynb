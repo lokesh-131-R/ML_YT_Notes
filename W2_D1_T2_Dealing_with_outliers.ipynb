{
  "cells": [
    {
      "cell_type": "markdown",
      "id": "110ebf0e",
      "metadata": {
        "id": "110ebf0e"
      },
      "source": [
        "## Outlier\n",
        "\n",
        "- An outlier is an observation of a data point that lies an abnormal distance from other values in a given population.\n",
        "\n",
        "- An outlier is an object(s) that deviates significantly from the rest of the object collection.\n",
        "\n",
        "- It is an abnormal observation during the Data Analysis stage, that data point lies far away from other values."
      ]
    },
    {
      "cell_type": "markdown",
      "id": "3a073dea",
      "metadata": {
        "id": "3a073dea"
      },
      "source": [
        "### Handling outliers\n",
        "\n",
        "- Outliers can either be a mistake or just variance.\n",
        "\n",
        "- If we found this is due to a mistake, then we can ignore them.\n",
        "\n",
        "- If we found this is due to variance, in the data, we can work on this."
      ]
    },
    {
      "cell_type": "markdown",
      "id": "2f95ccfe",
      "metadata": {
        "id": "2f95ccfe"
      },
      "source": [
        "### Possibilities for an Outlier!\n",
        "\n",
        "- Incorrect data entry or error during data processing\n",
        "- Missing values in a dataset.\n",
        "- Data did not come from the intended sample.\n",
        "- Errors occur during experiments.\n",
        "- Not an errored, it would be unusual from the original.\n",
        "- Extreme distribution than normal."
      ]
    },
    {
      "cell_type": "markdown",
      "id": "4e1da45f",
      "metadata": {
        "id": "4e1da45f"
      },
      "source": [
        "### Effect of outliers on EDA\n",
        "\n",
        "- Affects numerical measures\n",
        "- Affects correlation\n"
      ]
    },
    {
      "cell_type": "markdown",
      "id": "13efdbaa",
      "metadata": {
        "id": "13efdbaa"
      },
      "source": [
        "### Drop outliers or not\n",
        "\n",
        "- Before dropping the Outliers, we must analyze the dataset with and without outliers and understand better the impact of the results.\n",
        "- If you observed that it is obvious due to incorrectly entered or measured, certainly you can drop the outlier. No issues on that case.\n",
        "- If you find that your assumptions are getting affected, you may drop the outlier straight away, provided that no changes in the results.\n",
        "- If the outlier affects your assumptions and results. No questions simply drop the outlier and proceed with your further steps."
      ]
    },
    {
      "cell_type": "markdown",
      "id": "c9c20e33",
      "metadata": {
        "id": "c9c20e33"
      },
      "source": [
        "### Finding outliers"
      ]
    },
    {
      "cell_type": "code",
      "execution_count": null,
      "id": "6b79a577",
      "metadata": {
        "id": "6b79a577"
      },
      "outputs": [],
      "source": [
        "# import libraries\n",
        "import os\n",
        "import numpy as np\n",
        "import pandas as pd\n",
        "import matplotlib.pyplot as plt\n",
        "import seaborn as sns\n",
        "from scipy import stats"
      ]
    },
    {
      "cell_type": "code",
      "execution_count": null,
      "id": "5dd6550a",
      "metadata": {
        "id": "5dd6550a"
      },
      "outputs": [],
      "source": [
        "diabetes = pd.read_csv('diabetes.csv') "
      ]
    },
    {
      "cell_type": "code",
      "execution_count": null,
      "id": "4dfd0a8b",
      "metadata": {
        "id": "4dfd0a8b",
        "outputId": "d64f80eb-766f-41af-80f4-f931291f029e"
      },
      "outputs": [
        {
          "data": {
            "text/plain": [
              "<matplotlib.legend.Legend at 0x20b3d7c0340>"
            ]
          },
          "execution_count": 3,
          "metadata": {},
          "output_type": "execute_result"
        },
        {
          "data": {
            "image/png": "[encoded data removed]",
            "text/plain": [
              "<Figure size 432x288 with 1 Axes>"
            ]
          },
          "metadata": {
            "needs_background": "light"
          },
          "output_type": "display_data"
        }
      ],
      "source": [
        "sns.histplot(data = diabetes['Age'], kde = True)\n",
        "plt.axvline(x=diabetes.Age.mean(),color='red',alpha=0.5,label='Mean')\n",
        "plt.axvline(x=diabetes.Age.median(),c='blue',ls='--',alpha=0.5,label='Median')\n",
        "plt.legend()"
      ]
    },
    {
      "cell_type": "code",
      "execution_count": null,
      "id": "d395f1b7",
      "metadata": {
        "id": "d395f1b7",
        "outputId": "706ab2f6-c83e-4430-cfbc-9e370861e0a3"
      },
      "outputs": [
        {
          "data": {
            "text/plain": [
              "<AxesSubplot:ylabel='Age'>"
            ]
          },
          "execution_count": 4,
          "metadata": {},
          "output_type": "execute_result"
        },
        {
          "data": {
            "image/png": "[encoded data removed]",
            "text/plain": [
              "<Figure size 432x288 with 1 Axes>"
            ]
          },
          "metadata": {
            "needs_background": "light"
          },
          "output_type": "display_data"
        }
      ],
      "source": [
        "sns.boxplot(y=diabetes['Age'])"
      ]
    },
    {
      "cell_type": "markdown",
      "id": "ee4b5100",
      "metadata": {
        "id": "ee4b5100"
      },
      "source": [
        "### Approaches can be used"
      ]
    },
    {
      "cell_type": "markdown",
      "id": "368d6eea",
      "metadata": {
        "id": "368d6eea"
      },
      "source": [
        "- outlier replacements using computed mean. \n",
        "- outlier replacements using computed median. \n",
        "- outlier replacements using grouped mean, if classification approach. \n",
        "- outlier replacements using grouped median if classification approach. \n",
        "- outlier removal or the filling of missing values (Z score and/or IQR)"
      ]
    },
    {
      "cell_type": "markdown",
      "id": "4f93f075",
      "metadata": {
        "id": "4f93f075"
      },
      "source": [
        "**Z score**\n",
        "\n",
        "- Basically calculating standard normal distribution.\n",
        "- describes any data point by finding their relationship between mean and standard deviation of the group of data points.\n",
        "- It finds the distribution of data where mean is 0 and standard deviation is 1.\n",
        "- if Z-score value is greater than or less than 3 or -3 respectively, that data point will be identified as outlier."
      ]
    },
    {
      "cell_type": "code",
      "execution_count": null,
      "id": "822bbe1a",
      "metadata": {
        "id": "822bbe1a",
        "outputId": "ce9d9b52-3d6e-4cf0-a486-e7e64957a9af"
      },
      "outputs": [
        {
          "name": "stdout",
          "output_type": "stream",
          "text": [
            "0      1.425995\n",
            "1      0.190672\n",
            "2      0.105584\n",
            "3      1.041549\n",
            "4      0.020496\n",
            "         ...   \n",
            "763    2.532136\n",
            "764    0.531023\n",
            "765    0.275760\n",
            "766    1.170732\n",
            "767    0.871374\n",
            "Name: Age, Length: 768, dtype: float64\n"
          ]
        }
      ],
      "source": [
        "z = np.abs(stats.zscore(diabetes['Age']))\n",
        "print(z)"
      ]
    },
    {
      "cell_type": "code",
      "execution_count": null,
      "id": "30fddb82",
      "metadata": {
        "id": "30fddb82",
        "outputId": "514fe496-e362-43bf-8784-1b2413b41275"
      },
      "outputs": [
        {
          "name": "stdout",
          "output_type": "stream",
          "text": [
            "(array([123, 453, 459, 666, 684], dtype=int64),)\n"
          ]
        }
      ],
      "source": [
        "threshold = 3\n",
        "print(np.where(z > 3))"
      ]
    },
    {
      "cell_type": "code",
      "execution_count": null,
      "id": "5adc8de2",
      "metadata": {
        "id": "5adc8de2",
        "outputId": "7a595d59-402e-4114-bbde-a969f01f38ab"
      },
      "outputs": [
        {
          "name": "stdout",
          "output_type": "stream",
          "text": [
            "(array([], dtype=int64),)\n"
          ]
        }
      ],
      "source": [
        "threshold = -3\n",
        "print(np.where(z < -3))"
      ]
    },
    {
      "cell_type": "markdown",
      "id": "e532e068",
      "metadata": {
        "id": "e532e068"
      },
      "source": [
        "**IQR Score**"
      ]
    },
    {
      "cell_type": "markdown",
      "id": "955a890d",
      "metadata": {
        "id": "955a890d"
      },
      "source": [
        "- data has been divided into quartiles (Q1, Q2, and Q3).\n",
        "    - 25th percentile of the data – Q1\n",
        "    - 50th percentile of the data – Q2 (Median)\n",
        "    - 75th percentile of the data – Q3\n",
        "    - lower limit for outliers are Q1 - 1.5 * IQR\n",
        "    - upper limit for outliers are Q3 + 1.5 * IQR"
      ]
    },
    {
      "cell_type": "code",
      "execution_count": null,
      "id": "46e27de4",
      "metadata": {
        "id": "46e27de4",
        "outputId": "10ee4f97-7ec3-40e5-b71f-53d2903dcaf2"
      },
      "outputs": [
        {
          "name": "stdout",
          "output_type": "stream",
          "text": [
            "17.0\n"
          ]
        }
      ],
      "source": [
        "Q1 = np.percentile(diabetes['Age'], 25, interpolation = 'midpoint')\n",
        "Q2 = np.percentile(diabetes['Age'], 50, interpolation = 'midpoint')  \n",
        "Q3 = np.percentile(diabetes['Age'], 75, interpolation = 'midpoint')"
      ]
    },
    {
      "cell_type": "code",
      "execution_count": null,
      "id": "2f9e544b",
      "metadata": {
        "id": "2f9e544b",
        "outputId": "a23bb8bf-74be-4afc-8f40-9cf2fa28d287"
      },
      "outputs": [
        {
          "name": "stdout",
          "output_type": "stream",
          "text": [
            "Interquartile range is 17.0\n",
            "low_limit is -1.5\n",
            "up_limit is 66.5\n",
            " outlier in the dataset is [69, 67, 72, 81, 67, 67, 70, 68, 69]\n"
          ]
        }
      ],
      "source": [
        "IQR = Q3 - Q1\n",
        "print('Interquartile range is', IQR)\n",
        "low_lim = Q1 - 1.5 * IQR\n",
        "up_lim = Q3 + 1.5 * IQR\n",
        "print('low_limit is', low_lim)\n",
        "print('up_limit is', up_lim)\n",
        "outlier =[]\n",
        "for x in diabetes['Age']:\n",
        "    if ((x> up_lim) or (x<low_lim)):\n",
        "         outlier.append(x)\n",
        "print(' outlier in the dataset is', outlier)"
      ]
    },
    {
      "cell_type": "code",
      "execution_count": null,
      "id": "5d792608",
      "metadata": {
        "id": "5d792608"
      },
      "outputs": [],
      "source": []
    }
  ],
  "metadata": {
    "kernelspec": {
      "display_name": "Python 3 (ipykernel)",
      "language": "python",
      "name": "python3"
    },
    "language_info": {
      "codemirror_mode": {
        "name": "ipython",
        "version": 3
      },
      "file_extension": ".py",
      "mimetype": "text/x-python",
      "name": "python",
      "nbconvert_exporter": "python",
      "pygments_lexer": "ipython3",
      "version": "3.9.7"
    },
    "colab": {
      "provenance": []
    }
  },
  "nbformat": 4,
  "nbformat_minor": 5
}