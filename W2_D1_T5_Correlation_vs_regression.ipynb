{
  "cells": [
    {
      "cell_type": "markdown",
      "id": "cb7fcaf7",
      "metadata": {
        "id": "cb7fcaf7"
      },
      "source": [
        "# Correlation vs regression\n"
      ]
    },
    {
      "cell_type": "markdown",
      "id": "7defc851",
      "metadata": {
        "id": "7defc851"
      },
      "source": [
        "### Correlation:\n",
        "- Correlation analysis is used to quantify the strength of the linear relationship. \n",
        "- We **cannot** say if x is affecting y or y is affecting x\n",
        "\n",
        "### Regression:\n",
        "- Examines the relationship in form of equation\n",
        "- Here, we know that x (independent variable) is affecting y (dependent variable)\n",
        "\n"
      ]
    },
    {
      "cell_type": "markdown",
      "id": "8e87da10",
      "metadata": {
        "id": "8e87da10"
      },
      "source": [
        "## Regression vs classification\n",
        "- Both are supervised machine learning approach\n",
        "- In **regression outcome variable is numeric** and in **classification outcome variable is categorical**."
      ]
    },
    {
      "cell_type": "markdown",
      "id": "24943f87",
      "metadata": {
        "id": "24943f87"
      },
      "source": [
        "### Pearson correlation"
      ]
    },
    {
      "cell_type": "markdown",
      "id": "a3a7ca00",
      "metadata": {
        "id": "a3a7ca00"
      },
      "source": [
        "- In general correlation means we are talking about Pearson correlation analysis\n",
        "- Pearson correlation analysis is a parametric approach.\n",
        "- Parametric means it has certain assumptions which we must have to follow to perform Pearson correlation analysis.\n",
        "- Pearson correlation assumptions:\n",
        "    - The two variables are normally distributed.\n",
        "    - The relationship between the two variables should be linear.\n",
        "    - No outliers\n"
      ]
    },
    {
      "cell_type": "markdown",
      "id": "3b19eb1e",
      "metadata": {
        "id": "3b19eb1e"
      },
      "source": [
        "- Perason correlation value ranges from **-1 and 1**\n",
        "- **Zero value** in Pearson correlation suggest two points\n",
        "    - There is no **linear** relationship between two numeric variables. There might be a different type of relationship\n",
        "    - As two variables are not correlated, hence they are **independent** of  each other."
      ]
    },
    {
      "cell_type": "markdown",
      "id": "80e221a7",
      "metadata": {
        "id": "80e221a7"
      },
      "source": [
        "- **Positive Correlation**: both variables change in the same direction.\n",
        "- **No linear Correlation**: No relationship in the change of the variables.\n",
        "- **Negative Correlation**: variables change in opposite directions."
      ]
    },
    {
      "cell_type": "markdown",
      "id": "4a092c4f",
      "metadata": {
        "id": "4a092c4f"
      },
      "source": [
        "### Spearman rank correlation"
      ]
    },
    {
      "cell_type": "markdown",
      "id": "6f5a0463",
      "metadata": {
        "id": "6f5a0463"
      },
      "source": [
        "- It is a non-parametric approach, means not bound with any assumptions.\n",
        "- Hence, in case of non-normal distribution or non-linearity we can use Spearman rank correlation."
      ]
    },
    {
      "cell_type": "code",
      "execution_count": null,
      "id": "ee84035d",
      "metadata": {
        "id": "ee84035d"
      },
      "outputs": [],
      "source": []
    }
  ],
  "metadata": {
    "kernelspec": {
      "display_name": "Python 3 (ipykernel)",
      "language": "python",
      "name": "python3"
    },
    "language_info": {
      "codemirror_mode": {
        "name": "ipython",
        "version": 3
      },
      "file_extension": ".py",
      "mimetype": "text/x-python",
      "name": "python",
      "nbconvert_exporter": "python",
      "pygments_lexer": "ipython3",
      "version": "3.9.7"
    },
    "colab": {
      "provenance": []
    }
  },
  "nbformat": 4,
  "nbformat_minor": 5
}