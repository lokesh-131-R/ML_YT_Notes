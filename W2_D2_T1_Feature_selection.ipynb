{
  "cells": [
    {
      "cell_type": "markdown",
      "id": "e9209ae6",
      "metadata": {
        "id": "e9209ae6"
      },
      "source": [
        "# Feature selection\n",
        "- In real life we deal with hundreds of features in the dataset, but it is very rare that all features will be used to build a model. \n",
        "- Remember, garbage in garbage out. \n",
        "- Unnecessary features may reduce the overall accuracy of the model.\n",
        "- Feature selection is a process that to find the best set of features.\n"
      ]
    },
    {
      "cell_type": "markdown",
      "id": "4cfcaf3d",
      "metadata": {
        "id": "4cfcaf3d"
      },
      "source": [
        "**Some ofthese methods have been covered during statistical analysis. Not all but some are part of machine learning**"
      ]
    },
    {
      "cell_type": "markdown",
      "id": "276b1052",
      "metadata": {
        "id": "276b1052"
      },
      "source": [
        "Some popular techniques of feature selection in ML are:\n",
        "-\tFilter method\n",
        "-\tWrapper method\n",
        "-\tEmbedded method\n"
      ]
    },
    {
      "cell_type": "markdown",
      "id": "56cd8069",
      "metadata": {
        "id": "56cd8069"
      },
      "source": [
        "## Filter method\n",
        "-\tSelect features from dataset irrespective of any ML algorithm based on statistical measures as a pre-processing step.\n",
        "-\tFilters out irrelevant features using different methods.\n",
        "-\tLow computation and does not overfit the model.\n"
      ]
    },
    {
      "cell_type": "markdown",
      "id": "e27dac6a",
      "metadata": {
        "id": "e27dac6a"
      },
      "source": [
        "There are many methods, however very commonly used one’s are:\n",
        "-\tInformation gain\n",
        "-\tChi-square test\n",
        "-\tCorrelation coefficient\n"
      ]
    },
    {
      "cell_type": "markdown",
      "id": "7bee522e",
      "metadata": {
        "id": "7bee522e"
      },
      "source": [
        "### Information gain\n",
        " It is defined as the amount of information provided by the feature for identifying the target value and measures reduction in the entropy values. Information gain of each attribute is calculated considering the target values for feature selection.\n",
        "#### Entropy\n",
        "- Entropy is an information theory metric that measures the impurity or uncertainty in a group of observations. It determines how a decision tree chooses to split data. The image below gives a better description of the purity of a set.\n",
        "- Entropy is also the basis of something called mutual information which quantifies the relationship between two things."
      ]
    },
    {
      "cell_type": "code",
      "execution_count": null,
      "id": "2bb912bf",
      "metadata": {
        "id": "2bb912bf",
        "outputId": "b21c6ef7-6283-45d4-dd4d-9fb6aab94904"
      },
      "outputs": [
        {
          "data": {
            "image/png": "[encoded data removed]",
            "text/plain": [
              "<IPython.core.display.Image object>"
            ]
          },
          "execution_count": 2,
          "metadata": {},
          "output_type": "execute_result"
        }
      ],
      "source": [
        "from IPython.display import Image\n",
        "Image(filename='purity.png') "
      ]
    },
    {
      "cell_type": "markdown",
      "id": "fdd677e6",
      "metadata": {
        "id": "fdd677e6"
      },
      "source": [
        "### Chi-square test\n",
        "The Chi-square test is used for categorical features in a dataset. We calculate Chi-square between each feature and the target and select the desired number of features with the best Chi-square scores. In order to correctly apply the chi-squared in order to test the relation between various features in the dataset and the target variable, the following conditions have to be met: the variables have to be categorical, sampled independently and values should have an expected frequency greater than 5."
      ]
    },
    {
      "cell_type": "markdown",
      "id": "1b1e3b92",
      "metadata": {
        "id": "1b1e3b92"
      },
      "source": [
        "### Correlation coefficient\n",
        "Correlation is a measure of the linear relationship of 2 or more variables. Through correlation, we can predict one variable from the other. The logic behind using correlation for feature selection is that the good variables are highly correlated with the target. Furthermore, variables should be correlated with the target but should be uncorrelated among themselves.\n",
        "\n",
        "If two variables are correlated, we can predict one from the other. Therefore, if two features are correlated, the model only really needs one of them, as the second one does not add additional information. We will use the Pearson Correlation here."
      ]
    },
    {
      "cell_type": "markdown",
      "id": "45e1d2be",
      "metadata": {
        "id": "45e1d2be"
      },
      "source": [
        "## Wrapper method\n",
        "-\tUses iterative manner (addition or removal) to identify important features in the model,\n",
        "- There are many method most commonly used ones are:\n"
      ]
    },
    {
      "cell_type": "markdown",
      "id": "eb9f290e",
      "metadata": {
        "id": "eb9f290e"
      },
      "source": [
        "### Forward selection \n",
        "This method is an iterative approach where we initially start with an empty set of features and keep adding a feature which best improves our model after each iteration."
      ]
    },
    {
      "cell_type": "markdown",
      "id": "faf1791f",
      "metadata": {
        "id": "faf1791f"
      },
      "source": [
        "### Backward elimination \n",
        "This method is also an iterative approach where we initially start with all features and after each iteration, we remove the least significant feature."
      ]
    },
    {
      "cell_type": "markdown",
      "id": "7bd00f04",
      "metadata": {
        "id": "7bd00f04"
      },
      "source": [
        "### Bi-directional elimination \n",
        "This method uses both forward selection and backward elimination technique simultaneously to reach to one unique solution."
      ]
    },
    {
      "cell_type": "markdown",
      "id": "1c0a4885",
      "metadata": {
        "id": "1c0a4885"
      },
      "source": [
        "## Embedded methods\n",
        "- In embedded methods, the feature selection algorithm is blended as part of the learning algorithm, thus having its own built-in feature selection methods.\n",
        "- Embedded methods encounter the drawbacks of filter and wrapper methods and merge their advantages. These methods are faster like those of filter methods and more accurate than the filter methods and take into consideration a combination of features as well.\n",
        "- There are many methods but most commonly used ones are:\n"
      ]
    },
    {
      "cell_type": "markdown",
      "id": "b3196b54",
      "metadata": {
        "id": "b3196b54"
      },
      "source": [
        "### Regularization \n",
        "- This method adds a penalty to different parameters of the machine learning model to avoid over-fitting of the model.\n",
        "- This approach of feature selection uses **Lasso (L1 regularization)** and **Elastic nets (L1 and L2 regularization)**. \n",
        "- The penalty is applied over the coefficients, thus bringing down some coefficients to zero. \n",
        "- The features having zero coefficient can be removed from the dataset."
      ]
    },
    {
      "cell_type": "markdown",
      "id": "3309f8a8",
      "metadata": {
        "id": "3309f8a8"
      },
      "source": [
        "### Tree-based methods \n",
        "- These methods such as Random Forest, Gradient Boosting provides us feature importance as a way to select features as well. Feature importance tells us which features are more important in making an impact on the target feature."
      ]
    },
    {
      "cell_type": "code",
      "execution_count": null,
      "id": "bb6a7351",
      "metadata": {
        "id": "bb6a7351",
        "outputId": "d73abcdd-fcbb-4fe5-8aea-a3c6753a97e5"
      },
      "outputs": [
        {
          "data": {
            "image/png": "[encoded data removed]",
            "text/plain": [
              "<IPython.core.display.Image object>"
            ]
          },
          "execution_count": 1,
          "metadata": {},
          "output_type": "execute_result"
        }
      ],
      "source": [
        "from IPython.display import Image\n",
        "Image(filename='feature_selection.png') "
      ]
    },
    {
      "cell_type": "markdown",
      "id": "e38aeffa",
      "metadata": {
        "id": "e38aeffa"
      },
      "source": [
        "- This is one given method to use an approach to find best features for your model."
      ]
    },
    {
      "cell_type": "code",
      "execution_count": null,
      "id": "f71db021",
      "metadata": {
        "id": "f71db021"
      },
      "outputs": [],
      "source": []
    }
  ],
  "metadata": {
    "kernelspec": {
      "display_name": "Python 3 (ipykernel)",
      "language": "python",
      "name": "python3"
    },
    "language_info": {
      "codemirror_mode": {
        "name": "ipython",
        "version": 3
      },
      "file_extension": ".py",
      "mimetype": "text/x-python",
      "name": "python",
      "nbconvert_exporter": "python",
      "pygments_lexer": "ipython3",
      "version": "3.9.7"
    },
    "colab": {
      "provenance": []
    }
  },
  "nbformat": 4,
  "nbformat_minor": 5
}